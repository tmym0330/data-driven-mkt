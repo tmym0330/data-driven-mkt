{
 "cells": [
  {
   "cell_type": "code",
   "execution_count": 1,
   "id": "cc01ce57",
   "metadata": {},
   "outputs": [],
   "source": [
    "import numpy as np\n",
    "import pandas as pd\n",
    "import numpy as np\n",
    "import pandas as pd\n",
    "import matplotlib.pyplot as plt\n",
    "df = pd.read_csv('D:\\\\DataDrivenMKT\\\\Data Driven Marketing Course\\\\Data\\\\Chapter 2\\\\bank-additional\\\\bank-additional-full.csv',\\\n",
    "                 delimiter=';')"
   ]
  },
  {
   "cell_type": "code",
   "execution_count": 2,
   "id": "0a0fddb8",
   "metadata": {},
   "outputs": [],
   "source": [
    "df['conversion'] = df['y']\\\n",
    ".apply(lambda x: 1 if x=='yes' else 0)"
   ]
  },
  {
   "cell_type": "code",
   "execution_count": 3,
   "id": "307cfc1e",
   "metadata": {},
   "outputs": [
    {
     "name": "stdout",
     "output_type": "stream",
     "text": [
      "<class 'pandas.core.frame.DataFrame'>\n",
      "RangeIndex: 41188 entries, 0 to 41187\n",
      "Data columns (total 22 columns):\n",
      " #   Column          Non-Null Count  Dtype  \n",
      "---  ------          --------------  -----  \n",
      " 0   age             41188 non-null  int64  \n",
      " 1   job             41188 non-null  object \n",
      " 2   marital         41188 non-null  object \n",
      " 3   education       41188 non-null  object \n",
      " 4   default         41188 non-null  object \n",
      " 5   housing         41188 non-null  object \n",
      " 6   loan            41188 non-null  object \n",
      " 7   contact         41188 non-null  object \n",
      " 8   month           41188 non-null  object \n",
      " 9   day_of_week     41188 non-null  object \n",
      " 10  duration        41188 non-null  int64  \n",
      " 11  campaign        41188 non-null  int64  \n",
      " 12  pdays           41188 non-null  int64  \n",
      " 13  previous        41188 non-null  int64  \n",
      " 14  poutcome        41188 non-null  object \n",
      " 15  emp.var.rate    41188 non-null  float64\n",
      " 16  cons.price.idx  41188 non-null  float64\n",
      " 17  cons.conf.idx   41188 non-null  float64\n",
      " 18  euribor3m       41188 non-null  float64\n",
      " 19  nr.employed     41188 non-null  float64\n",
      " 20  y               41188 non-null  object \n",
      " 21  conversion      41188 non-null  int64  \n",
      "dtypes: float64(5), int64(6), object(11)\n",
      "memory usage: 6.9+ MB\n"
     ]
    }
   ],
   "source": [
    "df.info()"
   ]
  },
  {
   "cell_type": "code",
   "execution_count": 4,
   "id": "64135daa",
   "metadata": {},
   "outputs": [
    {
     "data": {
      "text/plain": [
       "no         32588\n",
       "unknown     8597\n",
       "yes            3\n",
       "Name: default, dtype: int64"
      ]
     },
     "execution_count": 4,
     "metadata": {},
     "output_type": "execute_result"
    }
   ],
   "source": [
    "df['default'].value_counts()"
   ]
  },
  {
   "cell_type": "markdown",
   "id": "2030e1c3",
   "metadata": {},
   "source": [
    "merge yes ->unknown; then use label encoder for this column"
   ]
  },
  {
   "cell_type": "code",
   "execution_count": 5,
   "id": "e4775bc7",
   "metadata": {},
   "outputs": [],
   "source": [
    "df['default'] = df['default'].apply(lambda x: 'unknown' if x=='yes' else x)"
   ]
  },
  {
   "cell_type": "code",
   "execution_count": 6,
   "id": "a19f801c",
   "metadata": {},
   "outputs": [
    {
     "data": {
      "text/plain": [
       "university.degree      12168\n",
       "high.school             9515\n",
       "basic.9y                6045\n",
       "professional.course     5243\n",
       "basic.4y                4176\n",
       "basic.6y                2292\n",
       "unknown                 1731\n",
       "illiterate                18\n",
       "Name: education, dtype: int64"
      ]
     },
     "execution_count": 6,
     "metadata": {},
     "output_type": "execute_result"
    }
   ],
   "source": [
    "df['education'].value_counts()"
   ]
  },
  {
   "cell_type": "markdown",
   "id": "f91cbf4b",
   "metadata": {},
   "source": [
    "change:  basic.9y, basic.4y, basic.6y -> basic. Option: unknown -> university.degree"
   ]
  },
  {
   "cell_type": "code",
   "execution_count": 7,
   "id": "677ffe29",
   "metadata": {},
   "outputs": [
    {
     "data": {
      "text/plain": [
       "Int64Index([45, 55, 53, 44, 35, 41, 32, 34, 38, 50, 49, 52, 47, 43, 56, 46, 60,\n",
       "            58, 30, 59, 57, 42, 48, 27, 28, 24, 64, 26, 36, 37, 61, 33, 31, 25,\n",
       "            81, 40, 51, 66, 54, 63, 78, 76, 65, 29, 69, 72, 62, 67],\n",
       "           dtype='int64')"
      ]
     },
     "execution_count": 7,
     "metadata": {},
     "output_type": "execute_result"
    }
   ],
   "source": [
    "list_age = df[df['job']=='unknown']['age'].value_counts().index\n",
    "list_age"
   ]
  },
  {
   "cell_type": "code",
   "execution_count": 8,
   "id": "a59ba212",
   "metadata": {},
   "outputs": [
    {
     "data": {
      "text/plain": [
       "'blue-collar'"
      ]
     },
     "execution_count": 8,
     "metadata": {},
     "output_type": "execute_result"
    }
   ],
   "source": [
    "df[df['age']==45]['job'].value_counts().idxmax()"
   ]
  },
  {
   "cell_type": "code",
   "execution_count": 9,
   "id": "2e8fdbbc",
   "metadata": {},
   "outputs": [],
   "source": [
    "for age in list_age:\n",
    "    df.loc[((df['age']==age)&(df['job']=='unknown'))\\\n",
    "           ,['job']] = df[df['age']==age]['job'].value_counts().idxmax()"
   ]
  },
  {
   "cell_type": "code",
   "execution_count": 10,
   "id": "2b3a8f04",
   "metadata": {},
   "outputs": [
    {
     "data": {
      "text/plain": [
       "admin.           10547\n",
       "blue-collar       9409\n",
       "technician        6743\n",
       "services          3969\n",
       "management        2924\n",
       "retired           1764\n",
       "entrepreneur      1456\n",
       "self-employed     1421\n",
       "housemaid         1060\n",
       "unemployed        1014\n",
       "student            881\n",
       "Name: job, dtype: int64"
      ]
     },
     "execution_count": 10,
     "metadata": {},
     "output_type": "execute_result"
    }
   ],
   "source": [
    "df['job'].value_counts()"
   ]
  },
  {
   "cell_type": "code",
   "execution_count": 11,
   "id": "db7a6ade",
   "metadata": {},
   "outputs": [
    {
     "data": {
      "text/plain": [
       "Index(['age', 'job', 'marital', 'education', 'default', 'housing', 'loan',\n",
       "       'contact', 'month', 'day_of_week', 'duration', 'campaign', 'pdays',\n",
       "       'previous', 'poutcome', 'emp.var.rate', 'cons.price.idx',\n",
       "       'cons.conf.idx', 'euribor3m', 'nr.employed', 'conversion'],\n",
       "      dtype='object')"
      ]
     },
     "execution_count": 11,
     "metadata": {},
     "output_type": "execute_result"
    }
   ],
   "source": [
    "df.drop('y',axis=1,inplace=True)\n",
    "df.columns"
   ]
  },
  {
   "cell_type": "markdown",
   "id": "fd793a0c",
   "metadata": {},
   "source": [
    "# Encoding categorical variables"
   ]
  },
  {
   "cell_type": "code",
   "execution_count": 12,
   "id": "66a60a14",
   "metadata": {},
   "outputs": [],
   "source": [
    "###encoding months\n",
    "months = ['jan', 'feb', 'mar', 'apr', 'may', 'jun', 'jul', 'aug', 'sep', 'oct',\n",
    "'nov', 'dec']\n",
    "df['month'] = df['month'].apply(\n",
    "lambda x: months.index(x)+1\n",
    ")"
   ]
  },
  {
   "cell_type": "code",
   "execution_count": 13,
   "id": "1c6a111d",
   "metadata": {},
   "outputs": [],
   "source": [
    "###encoding day of week \n",
    "days = ['mon','tue','wed','thu','fri']\n",
    "df['day_of_week'] = df['day_of_week'].apply(\n",
    "lambda x: days.index(x)+1\n",
    ")"
   ]
  },
  {
   "cell_type": "code",
   "execution_count": 14,
   "id": "88ac3ee0",
   "metadata": {},
   "outputs": [
    {
     "data": {
      "text/html": [
       "<div>\n",
       "<style scoped>\n",
       "    .dataframe tbody tr th:only-of-type {\n",
       "        vertical-align: middle;\n",
       "    }\n",
       "\n",
       "    .dataframe tbody tr th {\n",
       "        vertical-align: top;\n",
       "    }\n",
       "\n",
       "    .dataframe thead th {\n",
       "        text-align: right;\n",
       "    }\n",
       "</style>\n",
       "<table border=\"1\" class=\"dataframe\">\n",
       "  <thead>\n",
       "    <tr style=\"text-align: right;\">\n",
       "      <th></th>\n",
       "      <th>age</th>\n",
       "      <th>job</th>\n",
       "      <th>marital</th>\n",
       "      <th>education</th>\n",
       "      <th>default</th>\n",
       "      <th>housing</th>\n",
       "      <th>loan</th>\n",
       "      <th>contact</th>\n",
       "      <th>month</th>\n",
       "      <th>day_of_week</th>\n",
       "      <th>...</th>\n",
       "      <th>job_blue-collar</th>\n",
       "      <th>job_entrepreneur</th>\n",
       "      <th>job_housemaid</th>\n",
       "      <th>job_management</th>\n",
       "      <th>job_retired</th>\n",
       "      <th>job_self-employed</th>\n",
       "      <th>job_services</th>\n",
       "      <th>job_student</th>\n",
       "      <th>job_technician</th>\n",
       "      <th>job_unemployed</th>\n",
       "    </tr>\n",
       "  </thead>\n",
       "  <tbody>\n",
       "    <tr>\n",
       "      <th>0</th>\n",
       "      <td>56</td>\n",
       "      <td>housemaid</td>\n",
       "      <td>married</td>\n",
       "      <td>basic.4y</td>\n",
       "      <td>no</td>\n",
       "      <td>no</td>\n",
       "      <td>no</td>\n",
       "      <td>telephone</td>\n",
       "      <td>5</td>\n",
       "      <td>1</td>\n",
       "      <td>...</td>\n",
       "      <td>0</td>\n",
       "      <td>0</td>\n",
       "      <td>1</td>\n",
       "      <td>0</td>\n",
       "      <td>0</td>\n",
       "      <td>0</td>\n",
       "      <td>0</td>\n",
       "      <td>0</td>\n",
       "      <td>0</td>\n",
       "      <td>0</td>\n",
       "    </tr>\n",
       "    <tr>\n",
       "      <th>1</th>\n",
       "      <td>57</td>\n",
       "      <td>services</td>\n",
       "      <td>married</td>\n",
       "      <td>high.school</td>\n",
       "      <td>unknown</td>\n",
       "      <td>no</td>\n",
       "      <td>no</td>\n",
       "      <td>telephone</td>\n",
       "      <td>5</td>\n",
       "      <td>1</td>\n",
       "      <td>...</td>\n",
       "      <td>0</td>\n",
       "      <td>0</td>\n",
       "      <td>0</td>\n",
       "      <td>0</td>\n",
       "      <td>0</td>\n",
       "      <td>0</td>\n",
       "      <td>1</td>\n",
       "      <td>0</td>\n",
       "      <td>0</td>\n",
       "      <td>0</td>\n",
       "    </tr>\n",
       "    <tr>\n",
       "      <th>2</th>\n",
       "      <td>37</td>\n",
       "      <td>services</td>\n",
       "      <td>married</td>\n",
       "      <td>high.school</td>\n",
       "      <td>no</td>\n",
       "      <td>yes</td>\n",
       "      <td>no</td>\n",
       "      <td>telephone</td>\n",
       "      <td>5</td>\n",
       "      <td>1</td>\n",
       "      <td>...</td>\n",
       "      <td>0</td>\n",
       "      <td>0</td>\n",
       "      <td>0</td>\n",
       "      <td>0</td>\n",
       "      <td>0</td>\n",
       "      <td>0</td>\n",
       "      <td>1</td>\n",
       "      <td>0</td>\n",
       "      <td>0</td>\n",
       "      <td>0</td>\n",
       "    </tr>\n",
       "    <tr>\n",
       "      <th>3</th>\n",
       "      <td>40</td>\n",
       "      <td>admin.</td>\n",
       "      <td>married</td>\n",
       "      <td>basic.6y</td>\n",
       "      <td>no</td>\n",
       "      <td>no</td>\n",
       "      <td>no</td>\n",
       "      <td>telephone</td>\n",
       "      <td>5</td>\n",
       "      <td>1</td>\n",
       "      <td>...</td>\n",
       "      <td>0</td>\n",
       "      <td>0</td>\n",
       "      <td>0</td>\n",
       "      <td>0</td>\n",
       "      <td>0</td>\n",
       "      <td>0</td>\n",
       "      <td>0</td>\n",
       "      <td>0</td>\n",
       "      <td>0</td>\n",
       "      <td>0</td>\n",
       "    </tr>\n",
       "    <tr>\n",
       "      <th>4</th>\n",
       "      <td>56</td>\n",
       "      <td>services</td>\n",
       "      <td>married</td>\n",
       "      <td>high.school</td>\n",
       "      <td>no</td>\n",
       "      <td>no</td>\n",
       "      <td>yes</td>\n",
       "      <td>telephone</td>\n",
       "      <td>5</td>\n",
       "      <td>1</td>\n",
       "      <td>...</td>\n",
       "      <td>0</td>\n",
       "      <td>0</td>\n",
       "      <td>0</td>\n",
       "      <td>0</td>\n",
       "      <td>0</td>\n",
       "      <td>0</td>\n",
       "      <td>1</td>\n",
       "      <td>0</td>\n",
       "      <td>0</td>\n",
       "      <td>0</td>\n",
       "    </tr>\n",
       "  </tbody>\n",
       "</table>\n",
       "<p>5 rows × 32 columns</p>\n",
       "</div>"
      ],
      "text/plain": [
       "   age        job  marital    education  default housing loan    contact  \\\n",
       "0   56  housemaid  married     basic.4y       no      no   no  telephone   \n",
       "1   57   services  married  high.school  unknown      no   no  telephone   \n",
       "2   37   services  married  high.school       no     yes   no  telephone   \n",
       "3   40     admin.  married     basic.6y       no      no   no  telephone   \n",
       "4   56   services  married  high.school       no      no  yes  telephone   \n",
       "\n",
       "   month  day_of_week  ...  job_blue-collar  job_entrepreneur  job_housemaid  \\\n",
       "0      5            1  ...                0                 0              1   \n",
       "1      5            1  ...                0                 0              0   \n",
       "2      5            1  ...                0                 0              0   \n",
       "3      5            1  ...                0                 0              0   \n",
       "4      5            1  ...                0                 0              0   \n",
       "\n",
       "   job_management job_retired  job_self-employed  job_services  job_student  \\\n",
       "0               0           0                  0             0            0   \n",
       "1               0           0                  0             1            0   \n",
       "2               0           0                  0             1            0   \n",
       "3               0           0                  0             0            0   \n",
       "4               0           0                  0             1            0   \n",
       "\n",
       "   job_technician  job_unemployed  \n",
       "0               0               0  \n",
       "1               0               0  \n",
       "2               0               0  \n",
       "3               0               0  \n",
       "4               0               0  \n",
       "\n",
       "[5 rows x 32 columns]"
      ]
     },
     "execution_count": 14,
     "metadata": {},
     "output_type": "execute_result"
    }
   ],
   "source": [
    "####encoding jobs\n",
    "jobs_encoded_df = pd.get_dummies(df['job'],prefix='job')\n",
    "df = pd.concat([df, jobs_encoded_df], axis=1)\n",
    "df.head()"
   ]
  },
  {
   "cell_type": "code",
   "execution_count": 15,
   "id": "99d79050",
   "metadata": {},
   "outputs": [],
   "source": [
    "###enconding marital\n",
    "marital_encoded_df = pd.get_dummies(df['marital'],prefix='marital')\n",
    "df = pd.concat([df, marital_encoded_df], axis=1)"
   ]
  },
  {
   "cell_type": "code",
   "execution_count": 16,
   "id": "c26462f6",
   "metadata": {},
   "outputs": [],
   "source": [
    "###enconding poutcome\n",
    "poutcome_encoded_df = pd.get_dummies(df['poutcome'],prefix='poutcome')\n",
    "df = pd.concat([df, poutcome_encoded_df], axis=1)"
   ]
  },
  {
   "cell_type": "code",
   "execution_count": 17,
   "id": "e0ccca02",
   "metadata": {},
   "outputs": [],
   "source": [
    "###enconding contact\n",
    "contact_encoded_df = pd.get_dummies(df['contact'],prefix='contact')\n",
    "df = pd.concat([df, contact_encoded_df], axis=1)"
   ]
  },
  {
   "cell_type": "code",
   "execution_count": 18,
   "id": "eafcadae",
   "metadata": {},
   "outputs": [],
   "source": [
    "###encoding education, basic.4y, 6y -> basic\n",
    "df['education'] = df['education'].str.replace('basic.\\w+','basic',regex=True)\n",
    "categories = pd.Categorical(df['education'],\\\n",
    "                           categories = ['unknown','illiterate','basic',\\\n",
    "                                         'high.school','university.degree','professional.course'])\n",
    "df['education'] = categories.codes"
   ]
  },
  {
   "cell_type": "code",
   "execution_count": 19,
   "id": "a5eec0ba",
   "metadata": {},
   "outputs": [],
   "source": [
    "###encoding loan, default, housing\n",
    "df['housing'] = df['housing'].apply(lambda x: 1 if x == 'yes' else 0)\n",
    "df['loan'] = df['loan'].apply(lambda x: 1 if x == 'yes' else 0)\n",
    "df['default'] = df['loan'].apply(lambda x: 0 if x == 'no' else 1)"
   ]
  },
  {
   "cell_type": "code",
   "execution_count": 25,
   "id": "b7f8e992",
   "metadata": {},
   "outputs": [
    {
     "data": {
      "image/png": "[encoded data removed]",
      "text/plain": [
       "<Figure size 504x1800 with 7 Axes>"
      ]
     },
     "metadata": {
      "needs_background": "light"
     },
     "output_type": "display_data"
    }
   ],
   "source": [
    "fig,ax = plt.subplots(7,1,figsize=[7,25])\n",
    "i=0\n",
    "for col in ['age','duration','cons.price.idx','cons.conf.idx','pdays', 'euribor3m', 'nr.employed']:\n",
    "    ax[i].hist(df[col],bins=20)\n",
    "    ax[i].set_title(col)\n",
    "    i+=1"
   ]
  },
  {
   "cell_type": "code",
   "execution_count": 24,
   "id": "a9858c58",
   "metadata": {},
   "outputs": [
    {
     "data": {
      "text/plain": [
       "999    0.963217\n",
       "3      0.010658\n",
       "6      0.010003\n",
       "4      0.002865\n",
       "9      0.001554\n",
       "2      0.001481\n",
       "7      0.001457\n",
       "12     0.001408\n",
       "10     0.001263\n",
       "5      0.001117\n",
       "13     0.000874\n",
       "11     0.000680\n",
       "1      0.000631\n",
       "15     0.000583\n",
       "14     0.000486\n",
       "8      0.000437\n",
       "0      0.000364\n",
       "16     0.000267\n",
       "17     0.000194\n",
       "18     0.000170\n",
       "22     0.000073\n",
       "19     0.000073\n",
       "21     0.000049\n",
       "25     0.000024\n",
       "26     0.000024\n",
       "27     0.000024\n",
       "20     0.000024\n",
       "Name: pdays, dtype: float64"
      ]
     },
     "execution_count": 24,
     "metadata": {},
     "output_type": "execute_result"
    }
   ],
   "source": [
    "df['pdays'].value_counts(normalize=True)"
   ]
  },
  {
   "cell_type": "markdown",
   "id": "ee4a1240",
   "metadata": {},
   "source": [
    "drop 'pdays' column\n",
    "duration: right skew -> need log transform, MinMaxScaler: 'cons.price.idx', 'cons.conf.idx', 'age'"
   ]
  },
  {
   "cell_type": "code",
   "execution_count": 29,
   "id": "4c4356f4",
   "metadata": {},
   "outputs": [],
   "source": [
    "from sklearn.preprocessing import MinMaxScaler\n",
    "df['duration'] = df['duration'].apply(lambda x: np.log(x+0.0001))\n",
    "for col in ['age','duration','cons.price.idx','cons.conf.idx','nr.employed']:\n",
    "    df[col] = MinMaxScaler().fit_transform(df[[col]])"
   ]
  },
  {
   "cell_type": "code",
   "execution_count": 30,
   "id": "cff61782",
   "metadata": {},
   "outputs": [
    {
     "data": {
      "text/plain": [
       "Index(['age', 'education', 'default', 'housing', 'loan', 'month',\n",
       "       'day_of_week', 'duration', 'campaign', 'previous', 'emp.var.rate',\n",
       "       'cons.price.idx', 'cons.conf.idx', 'euribor3m', 'nr.employed',\n",
       "       'conversion', 'job_admin.', 'job_blue-collar', 'job_entrepreneur',\n",
       "       'job_housemaid', 'job_management', 'job_retired', 'job_self-employed',\n",
       "       'job_services', 'job_student', 'job_technician', 'job_unemployed',\n",
       "       'marital_divorced', 'marital_married', 'marital_single',\n",
       "       'marital_unknown', 'poutcome_failure', 'poutcome_nonexistent',\n",
       "       'poutcome_success', 'contact_cellular', 'contact_telephone'],\n",
       "      dtype='object')"
      ]
     },
     "execution_count": 30,
     "metadata": {},
     "output_type": "execute_result"
    }
   ],
   "source": [
    "data_final = df.drop(['job','marital','poutcome','contact'],axis=1)\n",
    "data_final.columns"
   ]
  },
  {
   "cell_type": "code",
   "execution_count": 31,
   "id": "f1c82c23",
   "metadata": {},
   "outputs": [
    {
     "name": "stderr",
     "output_type": "stream",
     "text": [
      "C:\\Users\\DELL\\anaconda3\\lib\\site-packages\\sklearn\\linear_model\\_logistic.py:814: ConvergenceWarning: lbfgs failed to converge (status=1):\n",
      "STOP: TOTAL NO. of ITERATIONS REACHED LIMIT.\n",
      "\n",
      "Increase the number of iterations (max_iter) or scale the data as shown in:\n",
      "    https://scikit-learn.org/stable/modules/preprocessing.html\n",
      "Please also refer to the documentation for alternative solver options:\n",
      "    https://scikit-learn.org/stable/modules/linear_model.html#logistic-regression\n",
      "  n_iter_i = _check_optimize_result(\n",
      "C:\\Users\\DELL\\anaconda3\\lib\\site-packages\\sklearn\\linear_model\\_logistic.py:814: ConvergenceWarning: lbfgs failed to converge (status=1):\n",
      "STOP: TOTAL NO. of ITERATIONS REACHED LIMIT.\n",
      "\n",
      "Increase the number of iterations (max_iter) or scale the data as shown in:\n",
      "    https://scikit-learn.org/stable/modules/preprocessing.html\n",
      "Please also refer to the documentation for alternative solver options:\n",
      "    https://scikit-learn.org/stable/modules/linear_model.html#logistic-regression\n",
      "  n_iter_i = _check_optimize_result(\n",
      "C:\\Users\\DELL\\anaconda3\\lib\\site-packages\\sklearn\\linear_model\\_logistic.py:814: ConvergenceWarning: lbfgs failed to converge (status=1):\n",
      "STOP: TOTAL NO. of ITERATIONS REACHED LIMIT.\n",
      "\n",
      "Increase the number of iterations (max_iter) or scale the data as shown in:\n",
      "    https://scikit-learn.org/stable/modules/preprocessing.html\n",
      "Please also refer to the documentation for alternative solver options:\n",
      "    https://scikit-learn.org/stable/modules/linear_model.html#logistic-regression\n",
      "  n_iter_i = _check_optimize_result(\n",
      "C:\\Users\\DELL\\anaconda3\\lib\\site-packages\\sklearn\\linear_model\\_logistic.py:814: ConvergenceWarning: lbfgs failed to converge (status=1):\n",
      "STOP: TOTAL NO. of ITERATIONS REACHED LIMIT.\n",
      "\n",
      "Increase the number of iterations (max_iter) or scale the data as shown in:\n",
      "    https://scikit-learn.org/stable/modules/preprocessing.html\n",
      "Please also refer to the documentation for alternative solver options:\n",
      "    https://scikit-learn.org/stable/modules/linear_model.html#logistic-regression\n",
      "  n_iter_i = _check_optimize_result(\n",
      "C:\\Users\\DELL\\anaconda3\\lib\\site-packages\\sklearn\\linear_model\\_logistic.py:814: ConvergenceWarning: lbfgs failed to converge (status=1):\n",
      "STOP: TOTAL NO. of ITERATIONS REACHED LIMIT.\n",
      "\n",
      "Increase the number of iterations (max_iter) or scale the data as shown in:\n",
      "    https://scikit-learn.org/stable/modules/preprocessing.html\n",
      "Please also refer to the documentation for alternative solver options:\n",
      "    https://scikit-learn.org/stable/modules/linear_model.html#logistic-regression\n",
      "  n_iter_i = _check_optimize_result(\n",
      "C:\\Users\\DELL\\anaconda3\\lib\\site-packages\\sklearn\\linear_model\\_logistic.py:814: ConvergenceWarning: lbfgs failed to converge (status=1):\n",
      "STOP: TOTAL NO. of ITERATIONS REACHED LIMIT.\n",
      "\n",
      "Increase the number of iterations (max_iter) or scale the data as shown in:\n",
      "    https://scikit-learn.org/stable/modules/preprocessing.html\n",
      "Please also refer to the documentation for alternative solver options:\n",
      "    https://scikit-learn.org/stable/modules/linear_model.html#logistic-regression\n",
      "  n_iter_i = _check_optimize_result(\n",
      "C:\\Users\\DELL\\anaconda3\\lib\\site-packages\\sklearn\\linear_model\\_logistic.py:814: ConvergenceWarning: lbfgs failed to converge (status=1):\n",
      "STOP: TOTAL NO. of ITERATIONS REACHED LIMIT.\n",
      "\n",
      "Increase the number of iterations (max_iter) or scale the data as shown in:\n",
      "    https://scikit-learn.org/stable/modules/preprocessing.html\n",
      "Please also refer to the documentation for alternative solver options:\n",
      "    https://scikit-learn.org/stable/modules/linear_model.html#logistic-regression\n",
      "  n_iter_i = _check_optimize_result(\n",
      "C:\\Users\\DELL\\anaconda3\\lib\\site-packages\\sklearn\\linear_model\\_logistic.py:814: ConvergenceWarning: lbfgs failed to converge (status=1):\n",
      "STOP: TOTAL NO. of ITERATIONS REACHED LIMIT.\n",
      "\n",
      "Increase the number of iterations (max_iter) or scale the data as shown in:\n",
      "    https://scikit-learn.org/stable/modules/preprocessing.html\n",
      "Please also refer to the documentation for alternative solver options:\n",
      "    https://scikit-learn.org/stable/modules/linear_model.html#logistic-regression\n",
      "  n_iter_i = _check_optimize_result(\n",
      "C:\\Users\\DELL\\anaconda3\\lib\\site-packages\\sklearn\\linear_model\\_logistic.py:814: ConvergenceWarning: lbfgs failed to converge (status=1):\n",
      "STOP: TOTAL NO. of ITERATIONS REACHED LIMIT.\n",
      "\n",
      "Increase the number of iterations (max_iter) or scale the data as shown in:\n",
      "    https://scikit-learn.org/stable/modules/preprocessing.html\n",
      "Please also refer to the documentation for alternative solver options:\n",
      "    https://scikit-learn.org/stable/modules/linear_model.html#logistic-regression\n",
      "  n_iter_i = _check_optimize_result(\n",
      "C:\\Users\\DELL\\anaconda3\\lib\\site-packages\\sklearn\\linear_model\\_logistic.py:814: ConvergenceWarning: lbfgs failed to converge (status=1):\n",
      "STOP: TOTAL NO. of ITERATIONS REACHED LIMIT.\n",
      "\n",
      "Increase the number of iterations (max_iter) or scale the data as shown in:\n",
      "    https://scikit-learn.org/stable/modules/preprocessing.html\n",
      "Please also refer to the documentation for alternative solver options:\n",
      "    https://scikit-learn.org/stable/modules/linear_model.html#logistic-regression\n",
      "  n_iter_i = _check_optimize_result(\n",
      "C:\\Users\\DELL\\anaconda3\\lib\\site-packages\\sklearn\\linear_model\\_logistic.py:814: ConvergenceWarning: lbfgs failed to converge (status=1):\n",
      "STOP: TOTAL NO. of ITERATIONS REACHED LIMIT.\n",
      "\n",
      "Increase the number of iterations (max_iter) or scale the data as shown in:\n",
      "    https://scikit-learn.org/stable/modules/preprocessing.html\n",
      "Please also refer to the documentation for alternative solver options:\n",
      "    https://scikit-learn.org/stable/modules/linear_model.html#logistic-regression\n",
      "  n_iter_i = _check_optimize_result(\n",
      "C:\\Users\\DELL\\anaconda3\\lib\\site-packages\\sklearn\\linear_model\\_logistic.py:814: ConvergenceWarning: lbfgs failed to converge (status=1):\n",
      "STOP: TOTAL NO. of ITERATIONS REACHED LIMIT.\n",
      "\n",
      "Increase the number of iterations (max_iter) or scale the data as shown in:\n",
      "    https://scikit-learn.org/stable/modules/preprocessing.html\n",
      "Please also refer to the documentation for alternative solver options:\n",
      "    https://scikit-learn.org/stable/modules/linear_model.html#logistic-regression\n",
      "  n_iter_i = _check_optimize_result(\n",
      "C:\\Users\\DELL\\anaconda3\\lib\\site-packages\\sklearn\\linear_model\\_logistic.py:814: ConvergenceWarning: lbfgs failed to converge (status=1):\n",
      "STOP: TOTAL NO. of ITERATIONS REACHED LIMIT.\n",
      "\n",
      "Increase the number of iterations (max_iter) or scale the data as shown in:\n",
      "    https://scikit-learn.org/stable/modules/preprocessing.html\n",
      "Please also refer to the documentation for alternative solver options:\n",
      "    https://scikit-learn.org/stable/modules/linear_model.html#logistic-regression\n",
      "  n_iter_i = _check_optimize_result(\n",
      "C:\\Users\\DELL\\anaconda3\\lib\\site-packages\\sklearn\\linear_model\\_logistic.py:814: ConvergenceWarning: lbfgs failed to converge (status=1):\n",
      "STOP: TOTAL NO. of ITERATIONS REACHED LIMIT.\n",
      "\n",
      "Increase the number of iterations (max_iter) or scale the data as shown in:\n",
      "    https://scikit-learn.org/stable/modules/preprocessing.html\n",
      "Please also refer to the documentation for alternative solver options:\n",
      "    https://scikit-learn.org/stable/modules/linear_model.html#logistic-regression\n",
      "  n_iter_i = _check_optimize_result(\n",
      "C:\\Users\\DELL\\anaconda3\\lib\\site-packages\\sklearn\\linear_model\\_logistic.py:814: ConvergenceWarning: lbfgs failed to converge (status=1):\n",
      "STOP: TOTAL NO. of ITERATIONS REACHED LIMIT.\n",
      "\n",
      "Increase the number of iterations (max_iter) or scale the data as shown in:\n",
      "    https://scikit-learn.org/stable/modules/preprocessing.html\n",
      "Please also refer to the documentation for alternative solver options:\n",
      "    https://scikit-learn.org/stable/modules/linear_model.html#logistic-regression\n",
      "  n_iter_i = _check_optimize_result(\n",
      "C:\\Users\\DELL\\anaconda3\\lib\\site-packages\\sklearn\\linear_model\\_logistic.py:814: ConvergenceWarning: lbfgs failed to converge (status=1):\n",
      "STOP: TOTAL NO. of ITERATIONS REACHED LIMIT.\n",
      "\n",
      "Increase the number of iterations (max_iter) or scale the data as shown in:\n",
      "    https://scikit-learn.org/stable/modules/preprocessing.html\n",
      "Please also refer to the documentation for alternative solver options:\n",
      "    https://scikit-learn.org/stable/modules/linear_model.html#logistic-regression\n",
      "  n_iter_i = _check_optimize_result(\n"
     ]
    },
    {
     "name": "stderr",
     "output_type": "stream",
     "text": [
      "C:\\Users\\DELL\\anaconda3\\lib\\site-packages\\sklearn\\linear_model\\_logistic.py:814: ConvergenceWarning: lbfgs failed to converge (status=1):\n",
      "STOP: TOTAL NO. of ITERATIONS REACHED LIMIT.\n",
      "\n",
      "Increase the number of iterations (max_iter) or scale the data as shown in:\n",
      "    https://scikit-learn.org/stable/modules/preprocessing.html\n",
      "Please also refer to the documentation for alternative solver options:\n",
      "    https://scikit-learn.org/stable/modules/linear_model.html#logistic-regression\n",
      "  n_iter_i = _check_optimize_result(\n",
      "C:\\Users\\DELL\\anaconda3\\lib\\site-packages\\sklearn\\linear_model\\_logistic.py:814: ConvergenceWarning: lbfgs failed to converge (status=1):\n",
      "STOP: TOTAL NO. of ITERATIONS REACHED LIMIT.\n",
      "\n",
      "Increase the number of iterations (max_iter) or scale the data as shown in:\n",
      "    https://scikit-learn.org/stable/modules/preprocessing.html\n",
      "Please also refer to the documentation for alternative solver options:\n",
      "    https://scikit-learn.org/stable/modules/linear_model.html#logistic-regression\n",
      "  n_iter_i = _check_optimize_result(\n",
      "C:\\Users\\DELL\\anaconda3\\lib\\site-packages\\sklearn\\linear_model\\_logistic.py:814: ConvergenceWarning: lbfgs failed to converge (status=1):\n",
      "STOP: TOTAL NO. of ITERATIONS REACHED LIMIT.\n",
      "\n",
      "Increase the number of iterations (max_iter) or scale the data as shown in:\n",
      "    https://scikit-learn.org/stable/modules/preprocessing.html\n",
      "Please also refer to the documentation for alternative solver options:\n",
      "    https://scikit-learn.org/stable/modules/linear_model.html#logistic-regression\n",
      "  n_iter_i = _check_optimize_result(\n",
      "C:\\Users\\DELL\\anaconda3\\lib\\site-packages\\sklearn\\linear_model\\_logistic.py:814: ConvergenceWarning: lbfgs failed to converge (status=1):\n",
      "STOP: TOTAL NO. of ITERATIONS REACHED LIMIT.\n",
      "\n",
      "Increase the number of iterations (max_iter) or scale the data as shown in:\n",
      "    https://scikit-learn.org/stable/modules/preprocessing.html\n",
      "Please also refer to the documentation for alternative solver options:\n",
      "    https://scikit-learn.org/stable/modules/linear_model.html#logistic-regression\n",
      "  n_iter_i = _check_optimize_result(\n"
     ]
    },
    {
     "name": "stdout",
     "output_type": "stream",
     "text": [
      "[False False  True False False False False  True False False  True  True\n",
      "  True False False False  True False False False  True False False  True\n",
      " False False  True  True  True False  True  True False  True  True]\n",
      "[18 16  1 19 17 14 21  1 20 15  1  1  1 13  2 12  1  4  6 10  1 11  3  1\n",
      "  8  7  1  1  1  9  1  1  5  1  1]\n"
     ]
    },
    {
     "name": "stderr",
     "output_type": "stream",
     "text": [
      "C:\\Users\\DELL\\anaconda3\\lib\\site-packages\\sklearn\\linear_model\\_logistic.py:814: ConvergenceWarning: lbfgs failed to converge (status=1):\n",
      "STOP: TOTAL NO. of ITERATIONS REACHED LIMIT.\n",
      "\n",
      "Increase the number of iterations (max_iter) or scale the data as shown in:\n",
      "    https://scikit-learn.org/stable/modules/preprocessing.html\n",
      "Please also refer to the documentation for alternative solver options:\n",
      "    https://scikit-learn.org/stable/modules/linear_model.html#logistic-regression\n",
      "  n_iter_i = _check_optimize_result(\n"
     ]
    }
   ],
   "source": [
    "# data_final_vars=data_final.columns.values.tolist()\n",
    "# y=['conversion']\n",
    "# X=[i for i in data_final_vars if i not in y]\n",
    "from sklearn.feature_selection import RFE\n",
    "from sklearn.linear_model import LogisticRegression\n",
    "rfe = RFE(estimator = LogisticRegression(), n_features_to_select = 15)\n",
    "rfe = rfe.fit(data_final.drop('conversion',axis=1), data_final['conversion'])\n",
    "print(rfe.support_)\n",
    "print(rfe.ranking_)"
   ]
  },
  {
   "cell_type": "code",
   "execution_count": 32,
   "id": "8ddb8df3",
   "metadata": {},
   "outputs": [
    {
     "name": "stdout",
     "output_type": "stream",
     "text": [
      "[False False  True False False False False  True False False  True  True\n",
      "  True False False False  True False False False  True False False  True\n",
      " False False  True  True  True False  True  True False  True  True]\n"
     ]
    }
   ],
   "source": [
    "print(rfe.support_)"
   ]
  },
  {
   "cell_type": "code",
   "execution_count": 33,
   "id": "5d25194e",
   "metadata": {},
   "outputs": [
    {
     "data": {
      "text/plain": [
       "[2, 7, 10, 11, 12, 16, 20, 23, 26, 27, 28, 30, 31, 33, 34]"
      ]
     },
     "execution_count": 33,
     "metadata": {},
     "output_type": "execute_result"
    }
   ],
   "source": [
    "[i for i in range(len(rfe.support_)) if rfe.support_[i]==True]"
   ]
  },
  {
   "cell_type": "code",
   "execution_count": 34,
   "id": "1a566dd1",
   "metadata": {},
   "outputs": [],
   "source": [
    "selected_features = data_final.drop('conversion',axis=1)\\\n",
    ".columns[[i for i in range(len(rfe.support_)) if rfe.support_[i]==True]]"
   ]
  },
  {
   "cell_type": "code",
   "execution_count": 35,
   "id": "c043cb08",
   "metadata": {},
   "outputs": [
    {
     "data": {
      "text/plain": [
       "Index(['default', 'duration', 'emp.var.rate', 'cons.price.idx',\n",
       "       'cons.conf.idx', 'job_blue-collar', 'job_retired', 'job_student',\n",
       "       'marital_divorced', 'marital_married', 'marital_single',\n",
       "       'poutcome_failure', 'poutcome_nonexistent', 'contact_cellular',\n",
       "       'contact_telephone'],\n",
       "      dtype='object')"
      ]
     },
     "execution_count": 35,
     "metadata": {},
     "output_type": "execute_result"
    }
   ],
   "source": [
    "selected_features"
   ]
  },
  {
   "cell_type": "code",
   "execution_count": 36,
   "id": "819de792",
   "metadata": {},
   "outputs": [
    {
     "name": "stdout",
     "output_type": "stream",
     "text": [
      "Optimization terminated successfully.\n",
      "         Current function value: 0.204290\n",
      "         Iterations 8\n"
     ]
    }
   ],
   "source": [
    "from statsmodels.discrete.discrete_model import Logit\n",
    "logit = Logit(data_final['conversion'],data_final[selected_features])\n",
    "logit_fit = logit.fit()"
   ]
  },
  {
   "cell_type": "code",
   "execution_count": 37,
   "id": "c3fd215b",
   "metadata": {},
   "outputs": [
    {
     "data": {
      "text/html": [
       "<table class=\"simpletable\">\n",
       "<caption>Logit Regression Results</caption>\n",
       "<tr>\n",
       "  <th>Dep. Variable:</th>      <td>conversion</td>    <th>  No. Observations:  </th>  <td> 41188</td> \n",
       "</tr>\n",
       "<tr>\n",
       "  <th>Model:</th>                 <td>Logit</td>      <th>  Df Residuals:      </th>  <td> 41174</td> \n",
       "</tr>\n",
       "<tr>\n",
       "  <th>Method:</th>                 <td>MLE</td>       <th>  Df Model:          </th>  <td>    13</td> \n",
       "</tr>\n",
       "<tr>\n",
       "  <th>Date:</th>            <td>Tue, 31 Jan 2023</td> <th>  Pseudo R-squ.:     </th>  <td>0.4197</td> \n",
       "</tr>\n",
       "<tr>\n",
       "  <th>Time:</th>                <td>13:36:26</td>     <th>  Log-Likelihood:    </th> <td> -8414.3</td>\n",
       "</tr>\n",
       "<tr>\n",
       "  <th>converged:</th>             <td>True</td>       <th>  LL-Null:           </th> <td> -14499.</td>\n",
       "</tr>\n",
       "<tr>\n",
       "  <th>Covariance Type:</th>     <td>nonrobust</td>    <th>  LLR p-value:       </th>  <td> 0.000</td> \n",
       "</tr>\n",
       "</table>\n",
       "<table class=\"simpletable\">\n",
       "<tr>\n",
       "            <td></td>              <th>coef</th>     <th>std err</th>      <th>z</th>      <th>P>|z|</th>  <th>[0.025</th>    <th>0.975]</th>  \n",
       "</tr>\n",
       "<tr>\n",
       "  <th>default</th>              <td>  -23.4225</td> <td> 1.39e+06</td> <td>-1.69e-05</td> <td> 1.000</td> <td>-2.72e+06</td> <td> 2.72e+06</td>\n",
       "</tr>\n",
       "<tr>\n",
       "  <th>duration</th>             <td>   37.5098</td> <td>    0.588</td> <td>   63.757</td> <td> 0.000</td> <td>   36.357</td> <td>   38.663</td>\n",
       "</tr>\n",
       "<tr>\n",
       "  <th>emp.var.rate</th>         <td>   -0.9350</td> <td>    0.021</td> <td>  -44.101</td> <td> 0.000</td> <td>   -0.977</td> <td>   -0.893</td>\n",
       "</tr>\n",
       "<tr>\n",
       "  <th>cons.price.idx</th>       <td>    3.4546</td> <td>    0.137</td> <td>   25.219</td> <td> 0.000</td> <td>    3.186</td> <td>    3.723</td>\n",
       "</tr>\n",
       "<tr>\n",
       "  <th>cons.conf.idx</th>        <td>    1.6298</td> <td>    0.095</td> <td>   17.069</td> <td> 0.000</td> <td>    1.443</td> <td>    1.817</td>\n",
       "</tr>\n",
       "<tr>\n",
       "  <th>job_blue-collar</th>      <td>   -0.3893</td> <td>    0.055</td> <td>   -7.079</td> <td> 0.000</td> <td>   -0.497</td> <td>   -0.281</td>\n",
       "</tr>\n",
       "<tr>\n",
       "  <th>job_retired</th>          <td>    0.4147</td> <td>    0.082</td> <td>    5.080</td> <td> 0.000</td> <td>    0.255</td> <td>    0.575</td>\n",
       "</tr>\n",
       "<tr>\n",
       "  <th>job_student</th>          <td>    0.2774</td> <td>    0.106</td> <td>    2.621</td> <td> 0.009</td> <td>    0.070</td> <td>    0.485</td>\n",
       "</tr>\n",
       "<tr>\n",
       "  <th>marital_divorced</th>     <td>   -0.0685</td> <td>    0.388</td> <td>   -0.177</td> <td> 0.860</td> <td>   -0.828</td> <td>    0.691</td>\n",
       "</tr>\n",
       "<tr>\n",
       "  <th>marital_married</th>      <td>   -0.0744</td> <td>    0.384</td> <td>   -0.194</td> <td> 0.846</td> <td>   -0.826</td> <td>    0.678</td>\n",
       "</tr>\n",
       "<tr>\n",
       "  <th>marital_single</th>       <td>    0.0720</td> <td>    0.385</td> <td>    0.187</td> <td> 0.851</td> <td>   -0.682</td> <td>    0.826</td>\n",
       "</tr>\n",
       "<tr>\n",
       "  <th>poutcome_failure</th>     <td>   -1.9429</td> <td>    0.089</td> <td>  -21.823</td> <td> 0.000</td> <td>   -2.117</td> <td>   -1.768</td>\n",
       "</tr>\n",
       "<tr>\n",
       "  <th>poutcome_nonexistent</th> <td>   -1.4374</td> <td>    0.079</td> <td>  -18.119</td> <td> 0.000</td> <td>   -1.593</td> <td>   -1.282</td>\n",
       "</tr>\n",
       "<tr>\n",
       "  <th>contact_cellular</th>     <td>  -11.2378</td> <td> 1.39e+06</td> <td>-8.09e-06</td> <td> 1.000</td> <td>-2.72e+06</td> <td> 2.72e+06</td>\n",
       "</tr>\n",
       "<tr>\n",
       "  <th>contact_telephone</th>    <td>  -12.1847</td> <td> 1.39e+06</td> <td>-8.77e-06</td> <td> 1.000</td> <td>-2.72e+06</td> <td> 2.72e+06</td>\n",
       "</tr>\n",
       "</table>"
      ],
      "text/plain": [
       "<class 'statsmodels.iolib.summary.Summary'>\n",
       "\"\"\"\n",
       "                           Logit Regression Results                           \n",
       "==============================================================================\n",
       "Dep. Variable:             conversion   No. Observations:                41188\n",
       "Model:                          Logit   Df Residuals:                    41174\n",
       "Method:                           MLE   Df Model:                           13\n",
       "Date:                Tue, 31 Jan 2023   Pseudo R-squ.:                  0.4197\n",
       "Time:                        13:36:26   Log-Likelihood:                -8414.3\n",
       "converged:                       True   LL-Null:                       -14499.\n",
       "Covariance Type:            nonrobust   LLR p-value:                     0.000\n",
       "========================================================================================\n",
       "                           coef    std err          z      P>|z|      [0.025      0.975]\n",
       "----------------------------------------------------------------------------------------\n",
       "default                -23.4225   1.39e+06  -1.69e-05      1.000   -2.72e+06    2.72e+06\n",
       "duration                37.5098      0.588     63.757      0.000      36.357      38.663\n",
       "emp.var.rate            -0.9350      0.021    -44.101      0.000      -0.977      -0.893\n",
       "cons.price.idx           3.4546      0.137     25.219      0.000       3.186       3.723\n",
       "cons.conf.idx            1.6298      0.095     17.069      0.000       1.443       1.817\n",
       "job_blue-collar         -0.3893      0.055     -7.079      0.000      -0.497      -0.281\n",
       "job_retired              0.4147      0.082      5.080      0.000       0.255       0.575\n",
       "job_student              0.2774      0.106      2.621      0.009       0.070       0.485\n",
       "marital_divorced        -0.0685      0.388     -0.177      0.860      -0.828       0.691\n",
       "marital_married         -0.0744      0.384     -0.194      0.846      -0.826       0.678\n",
       "marital_single           0.0720      0.385      0.187      0.851      -0.682       0.826\n",
       "poutcome_failure        -1.9429      0.089    -21.823      0.000      -2.117      -1.768\n",
       "poutcome_nonexistent    -1.4374      0.079    -18.119      0.000      -1.593      -1.282\n",
       "contact_cellular       -11.2378   1.39e+06  -8.09e-06      1.000   -2.72e+06    2.72e+06\n",
       "contact_telephone      -12.1847   1.39e+06  -8.77e-06      1.000   -2.72e+06    2.72e+06\n",
       "========================================================================================\n",
       "\"\"\""
      ]
     },
     "execution_count": 37,
     "metadata": {},
     "output_type": "execute_result"
    }
   ],
   "source": [
    "logit_fit.summary()"
   ]
  },
  {
   "cell_type": "code",
   "execution_count": 47,
   "id": "9beddf48",
   "metadata": {},
   "outputs": [],
   "source": [
    "drop_feats = ['marital_divorced','marital_married','marital_single','contact_cellular','contact_telephone']"
   ]
  },
  {
   "cell_type": "code",
   "execution_count": 48,
   "id": "65222875",
   "metadata": {},
   "outputs": [
    {
     "name": "stdout",
     "output_type": "stream",
     "text": [
      "Optimization terminated successfully.\n",
      "         Current function value: 0.207622\n",
      "         Iterations 8\n"
     ]
    },
    {
     "data": {
      "text/html": [
       "<table class=\"simpletable\">\n",
       "<caption>Logit Regression Results</caption>\n",
       "<tr>\n",
       "  <th>Dep. Variable:</th>      <td>conversion</td>    <th>  No. Observations:  </th>  <td> 41188</td> \n",
       "</tr>\n",
       "<tr>\n",
       "  <th>Model:</th>                 <td>Logit</td>      <th>  Df Residuals:      </th>  <td> 41178</td> \n",
       "</tr>\n",
       "<tr>\n",
       "  <th>Method:</th>                 <td>MLE</td>       <th>  Df Model:          </th>  <td>     9</td> \n",
       "</tr>\n",
       "<tr>\n",
       "  <th>Date:</th>            <td>Tue, 31 Jan 2023</td> <th>  Pseudo R-squ.:     </th>  <td>0.4102</td> \n",
       "</tr>\n",
       "<tr>\n",
       "  <th>Time:</th>                <td>13:47:12</td>     <th>  Log-Likelihood:    </th> <td> -8551.5</td>\n",
       "</tr>\n",
       "<tr>\n",
       "  <th>converged:</th>             <td>True</td>       <th>  LL-Null:           </th> <td> -14499.</td>\n",
       "</tr>\n",
       "<tr>\n",
       "  <th>Covariance Type:</th>     <td>nonrobust</td>    <th>  LLR p-value:       </th>  <td> 0.000</td> \n",
       "</tr>\n",
       "</table>\n",
       "<table class=\"simpletable\">\n",
       "<tr>\n",
       "            <td></td>              <th>coef</th>     <th>std err</th>      <th>z</th>      <th>P>|z|</th>  <th>[0.025</th>    <th>0.975]</th>  \n",
       "</tr>\n",
       "<tr>\n",
       "  <th>default</th>              <td>  -34.0637</td> <td>    0.524</td> <td>  -65.068</td> <td> 0.000</td> <td>  -35.090</td> <td>  -33.038</td>\n",
       "</tr>\n",
       "<tr>\n",
       "  <th>duration</th>             <td>   37.3303</td> <td>    0.584</td> <td>   63.961</td> <td> 0.000</td> <td>   36.186</td> <td>   38.474</td>\n",
       "</tr>\n",
       "<tr>\n",
       "  <th>emp.var.rate</th>         <td>   -0.9630</td> <td>    0.022</td> <td>  -44.198</td> <td> 0.000</td> <td>   -1.006</td> <td>   -0.920</td>\n",
       "</tr>\n",
       "<tr>\n",
       "  <th>cons.price.idx</th>       <td>    2.7439</td> <td>    0.129</td> <td>   21.265</td> <td> 0.000</td> <td>    2.491</td> <td>    2.997</td>\n",
       "</tr>\n",
       "<tr>\n",
       "  <th>cons.conf.idx</th>        <td>    1.0772</td> <td>    0.088</td> <td>   12.272</td> <td> 0.000</td> <td>    0.905</td> <td>    1.249</td>\n",
       "</tr>\n",
       "<tr>\n",
       "  <th>job_blue-collar</th>      <td>   -0.4860</td> <td>    0.054</td> <td>   -8.991</td> <td> 0.000</td> <td>   -0.592</td> <td>   -0.380</td>\n",
       "</tr>\n",
       "<tr>\n",
       "  <th>job_retired</th>          <td>    0.4185</td> <td>    0.079</td> <td>    5.275</td> <td> 0.000</td> <td>    0.263</td> <td>    0.574</td>\n",
       "</tr>\n",
       "<tr>\n",
       "  <th>job_student</th>          <td>    0.3781</td> <td>    0.101</td> <td>    3.744</td> <td> 0.000</td> <td>    0.180</td> <td>    0.576</td>\n",
       "</tr>\n",
       "<tr>\n",
       "  <th>poutcome_failure</th>     <td>   -2.0292</td> <td>    0.088</td> <td>  -23.009</td> <td> 0.000</td> <td>   -2.202</td> <td>   -1.856</td>\n",
       "</tr>\n",
       "<tr>\n",
       "  <th>poutcome_nonexistent</th> <td>   -1.6162</td> <td>    0.078</td> <td>  -20.739</td> <td> 0.000</td> <td>   -1.769</td> <td>   -1.463</td>\n",
       "</tr>\n",
       "</table>"
      ],
      "text/plain": [
       "<class 'statsmodels.iolib.summary.Summary'>\n",
       "\"\"\"\n",
       "                           Logit Regression Results                           \n",
       "==============================================================================\n",
       "Dep. Variable:             conversion   No. Observations:                41188\n",
       "Model:                          Logit   Df Residuals:                    41178\n",
       "Method:                           MLE   Df Model:                            9\n",
       "Date:                Tue, 31 Jan 2023   Pseudo R-squ.:                  0.4102\n",
       "Time:                        13:47:12   Log-Likelihood:                -8551.5\n",
       "converged:                       True   LL-Null:                       -14499.\n",
       "Covariance Type:            nonrobust   LLR p-value:                     0.000\n",
       "========================================================================================\n",
       "                           coef    std err          z      P>|z|      [0.025      0.975]\n",
       "----------------------------------------------------------------------------------------\n",
       "default                -34.0637      0.524    -65.068      0.000     -35.090     -33.038\n",
       "duration                37.3303      0.584     63.961      0.000      36.186      38.474\n",
       "emp.var.rate            -0.9630      0.022    -44.198      0.000      -1.006      -0.920\n",
       "cons.price.idx           2.7439      0.129     21.265      0.000       2.491       2.997\n",
       "cons.conf.idx            1.0772      0.088     12.272      0.000       0.905       1.249\n",
       "job_blue-collar         -0.4860      0.054     -8.991      0.000      -0.592      -0.380\n",
       "job_retired              0.4185      0.079      5.275      0.000       0.263       0.574\n",
       "job_student              0.3781      0.101      3.744      0.000       0.180       0.576\n",
       "poutcome_failure        -2.0292      0.088    -23.009      0.000      -2.202      -1.856\n",
       "poutcome_nonexistent    -1.6162      0.078    -20.739      0.000      -1.769      -1.463\n",
       "========================================================================================\n",
       "\"\"\""
      ]
     },
     "execution_count": 48,
     "metadata": {},
     "output_type": "execute_result"
    }
   ],
   "source": [
    "logit = Logit(data_final['conversion'],data_final[selected_features].drop(drop_feats,axis=1))\n",
    "logit_fit = logit.fit()\n",
    "logit_fit.summary()"
   ]
  },
  {
   "cell_type": "markdown",
   "id": "e549ddb6",
   "metadata": {},
   "source": [
    "https://www.statsmodels.org/dev/generated/statsmodels.discrete.discrete_model.LogitResults.get_margeff.html#statsmodels.discrete.discrete_model.LogitResults.get_margeff"
   ]
  },
  {
   "cell_type": "code",
   "execution_count": 49,
   "id": "647e8980",
   "metadata": {},
   "outputs": [],
   "source": [
    "margeff = logit_fit.get_margeff(at='overall', method='eyex', atexog=None, dummy=False, count=False)"
   ]
  },
  {
   "cell_type": "code",
   "execution_count": 50,
   "id": "e0cdf066",
   "metadata": {},
   "outputs": [
    {
     "data": {
      "text/html": [
       "<div>\n",
       "<style scoped>\n",
       "    .dataframe tbody tr th:only-of-type {\n",
       "        vertical-align: middle;\n",
       "    }\n",
       "\n",
       "    .dataframe tbody tr th {\n",
       "        vertical-align: top;\n",
       "    }\n",
       "\n",
       "    .dataframe thead th {\n",
       "        text-align: right;\n",
       "    }\n",
       "</style>\n",
       "<table border=\"1\" class=\"dataframe\">\n",
       "  <thead>\n",
       "    <tr style=\"text-align: right;\">\n",
       "      <th></th>\n",
       "      <th>d(lny)/d(lnx)</th>\n",
       "      <th>Std. Err.</th>\n",
       "      <th>z</th>\n",
       "      <th>Pr(&gt;|z|)</th>\n",
       "      <th>Conf. Int. Low</th>\n",
       "      <th>Cont. Int. Hi.</th>\n",
       "    </tr>\n",
       "  </thead>\n",
       "  <tbody>\n",
       "    <tr>\n",
       "      <th>duration</th>\n",
       "      <td>26.665591</td>\n",
       "      <td>0.417168</td>\n",
       "      <td>63.920474</td>\n",
       "      <td>0.000000e+00</td>\n",
       "      <td>25.847956</td>\n",
       "      <td>27.483225</td>\n",
       "    </tr>\n",
       "    <tr>\n",
       "      <th>emp.var.rate</th>\n",
       "      <td>-0.212666</td>\n",
       "      <td>0.006191</td>\n",
       "      <td>-34.352727</td>\n",
       "      <td>1.282373e-258</td>\n",
       "      <td>-0.224799</td>\n",
       "      <td>-0.200532</td>\n",
       "    </tr>\n",
       "    <tr>\n",
       "      <th>cons.price.idx</th>\n",
       "      <td>1.331043</td>\n",
       "      <td>0.062101</td>\n",
       "      <td>21.433583</td>\n",
       "      <td>6.498152e-102</td>\n",
       "      <td>1.209328</td>\n",
       "      <td>1.452758</td>\n",
       "    </tr>\n",
       "    <tr>\n",
       "      <th>cons.conf.idx</th>\n",
       "      <td>0.408205</td>\n",
       "      <td>0.032971</td>\n",
       "      <td>12.380776</td>\n",
       "      <td>3.321153e-35</td>\n",
       "      <td>0.343584</td>\n",
       "      <td>0.472827</td>\n",
       "    </tr>\n",
       "    <tr>\n",
       "      <th>job_blue-collar</th>\n",
       "      <td>-0.103406</td>\n",
       "      <td>0.011720</td>\n",
       "      <td>-8.823130</td>\n",
       "      <td>1.113044e-18</td>\n",
       "      <td>-0.126377</td>\n",
       "      <td>-0.080436</td>\n",
       "    </tr>\n",
       "    <tr>\n",
       "      <th>job_retired</th>\n",
       "      <td>0.013392</td>\n",
       "      <td>0.002411</td>\n",
       "      <td>5.553713</td>\n",
       "      <td>2.796640e-08</td>\n",
       "      <td>0.008666</td>\n",
       "      <td>0.018119</td>\n",
       "    </tr>\n",
       "    <tr>\n",
       "      <th>job_student</th>\n",
       "      <td>0.005526</td>\n",
       "      <td>0.001385</td>\n",
       "      <td>3.989421</td>\n",
       "      <td>6.623476e-05</td>\n",
       "      <td>0.002811</td>\n",
       "      <td>0.008241</td>\n",
       "    </tr>\n",
       "    <tr>\n",
       "      <th>poutcome_failure</th>\n",
       "      <td>-0.179674</td>\n",
       "      <td>0.008400</td>\n",
       "      <td>-21.389181</td>\n",
       "      <td>1.684918e-101</td>\n",
       "      <td>-0.196138</td>\n",
       "      <td>-0.163210</td>\n",
       "    </tr>\n",
       "    <tr>\n",
       "      <th>poutcome_nonexistent</th>\n",
       "      <td>-1.272222</td>\n",
       "      <td>0.061870</td>\n",
       "      <td>-20.562835</td>\n",
       "      <td>5.907781e-94</td>\n",
       "      <td>-1.393485</td>\n",
       "      <td>-1.150959</td>\n",
       "    </tr>\n",
       "  </tbody>\n",
       "</table>\n",
       "</div>"
      ],
      "text/plain": [
       "                      d(lny)/d(lnx)  Std. Err.          z       Pr(>|z|)  \\\n",
       "duration                  26.665591   0.417168  63.920474   0.000000e+00   \n",
       "emp.var.rate              -0.212666   0.006191 -34.352727  1.282373e-258   \n",
       "cons.price.idx             1.331043   0.062101  21.433583  6.498152e-102   \n",
       "cons.conf.idx              0.408205   0.032971  12.380776   3.321153e-35   \n",
       "job_blue-collar           -0.103406   0.011720  -8.823130   1.113044e-18   \n",
       "job_retired                0.013392   0.002411   5.553713   2.796640e-08   \n",
       "job_student                0.005526   0.001385   3.989421   6.623476e-05   \n",
       "poutcome_failure          -0.179674   0.008400 -21.389181  1.684918e-101   \n",
       "poutcome_nonexistent      -1.272222   0.061870 -20.562835   5.907781e-94   \n",
       "\n",
       "                      Conf. Int. Low  Cont. Int. Hi.  \n",
       "duration                   25.847956       27.483225  \n",
       "emp.var.rate               -0.224799       -0.200532  \n",
       "cons.price.idx              1.209328        1.452758  \n",
       "cons.conf.idx               0.343584        0.472827  \n",
       "job_blue-collar            -0.126377       -0.080436  \n",
       "job_retired                 0.008666        0.018119  \n",
       "job_student                 0.002811        0.008241  \n",
       "poutcome_failure           -0.196138       -0.163210  \n",
       "poutcome_nonexistent       -1.393485       -1.150959  "
      ]
     },
     "execution_count": 50,
     "metadata": {},
     "output_type": "execute_result"
    }
   ],
   "source": [
    "margeff.summary_frame()"
   ]
  },
  {
   "cell_type": "markdown",
   "id": "f7841cc9",
   "metadata": {},
   "source": [
    "USING DECISION TREE"
   ]
  },
  {
   "cell_type": "code",
   "execution_count": 51,
   "id": "c1c92312",
   "metadata": {},
   "outputs": [
    {
     "data": {
      "text/plain": [
       "(41188, 40)"
      ]
     },
     "execution_count": 51,
     "metadata": {},
     "output_type": "execute_result"
    }
   ],
   "source": [
    "df.shape"
   ]
  },
  {
   "cell_type": "code",
   "execution_count": 52,
   "id": "7f3e9bfa",
   "metadata": {},
   "outputs": [
    {
     "data": {
      "text/plain": [
       "Index(['age', 'education', 'default', 'housing', 'loan', 'month',\n",
       "       'day_of_week', 'duration', 'campaign', 'previous', 'emp.var.rate',\n",
       "       'cons.price.idx', 'cons.conf.idx', 'euribor3m', 'nr.employed',\n",
       "       'conversion', 'job_admin.', 'job_blue-collar', 'job_entrepreneur',\n",
       "       'job_housemaid', 'job_management', 'job_retired', 'job_self-employed',\n",
       "       'job_services', 'job_student', 'job_technician', 'job_unemployed',\n",
       "       'marital_divorced', 'marital_married', 'marital_single',\n",
       "       'marital_unknown', 'poutcome_failure', 'poutcome_nonexistent',\n",
       "       'poutcome_success', 'contact_cellular', 'contact_telephone'],\n",
       "      dtype='object')"
      ]
     },
     "execution_count": 52,
     "metadata": {},
     "output_type": "execute_result"
    }
   ],
   "source": [
    "data_final.columns"
   ]
  },
  {
   "cell_type": "code",
   "execution_count": 53,
   "id": "94453b98",
   "metadata": {},
   "outputs": [
    {
     "data": {
      "text/plain": [
       "DecisionTreeClassifier(max_depth=4)"
      ]
     },
     "execution_count": 53,
     "metadata": {},
     "output_type": "execute_result"
    }
   ],
   "source": [
    "from sklearn.tree import DecisionTreeClassifier\n",
    "tree_model = DecisionTreeClassifier(max_depth=4)\n",
    "tree_model.fit(data_final.drop('conversion',axis=1),data_final['conversion'])"
   ]
  },
  {
   "cell_type": "code",
   "execution_count": 54,
   "id": "e16de119",
   "metadata": {},
   "outputs": [],
   "source": [
    "import graphviz"
   ]
  },
  {
   "cell_type": "code",
   "execution_count": 55,
   "id": "b0dbba30",
   "metadata": {},
   "outputs": [],
   "source": [
    "from sklearn.tree import export_graphviz"
   ]
  },
  {
   "cell_type": "code",
   "execution_count": 56,
   "id": "d020c334",
   "metadata": {},
   "outputs": [],
   "source": [
    "features = data_final.drop('conversion',axis=1).columns"
   ]
  },
  {
   "cell_type": "code",
   "execution_count": 57,
   "id": "2bf6ce8a",
   "metadata": {},
   "outputs": [
    {
     "data": {
      "text/plain": [
       "Index(['age', 'education', 'default', 'housing', 'loan', 'month',\n",
       "       'day_of_week', 'duration', 'campaign', 'previous', 'emp.var.rate',\n",
       "       'cons.price.idx', 'cons.conf.idx', 'euribor3m', 'nr.employed',\n",
       "       'job_admin.', 'job_blue-collar', 'job_entrepreneur', 'job_housemaid',\n",
       "       'job_management', 'job_retired', 'job_self-employed', 'job_services',\n",
       "       'job_student', 'job_technician', 'job_unemployed', 'marital_divorced',\n",
       "       'marital_married', 'marital_single', 'marital_unknown',\n",
       "       'poutcome_failure', 'poutcome_nonexistent', 'poutcome_success',\n",
       "       'contact_cellular', 'contact_telephone'],\n",
       "      dtype='object')"
      ]
     },
     "execution_count": 57,
     "metadata": {},
     "output_type": "execute_result"
    }
   ],
   "source": [
    "features"
   ]
  },
  {
   "cell_type": "code",
   "execution_count": 67,
   "id": "c99e9571",
   "metadata": {},
   "outputs": [],
   "source": [
    "dot_data = export_graphviz(tree_model,\\\n",
    "                          feature_names=features,\\\n",
    "                          class_names = ['0','1'],\\\n",
    "                          filled=True,\\\n",
    "                          rounded=True,\\\n",
    "                          special_characters=True)\n",
    "\n",
    "graph = graphviz.Source(dot_data)"
   ]
  },
  {
   "cell_type": "code",
   "execution_count": 68,
   "id": "1dbb7d1c",
   "metadata": {},
   "outputs": [
    {
     "data": {
      "image/svg+xml": "<?xml version=\"1.0\" encoding=\"UTF-8\" standalone=\"no\"?>\r\n<!DOCTYPE svg PUBLIC \"-//W3C//DTD SVG 1.1//EN\"\r\n \"http://www.w3.org/Graphics/SVG/1.1/DTD/svg11.dtd\">\r\n<!-- Generated by graphviz version 2.38.0 (20140413.2041)\r\n -->\r\n<!-- Title: Tree Pages: 1 -->\r\n<svg width=\"2350pt\" height=\"552pt\"\r\n viewBox=\"0.00 0.00 2350.00 552.00\" xmlns=\"http://www.w3.org/2000/svg\" xmlns:xlink=\"http://www.w3.org/1999/xlink\">\r\n<g id=\"graph0\" class=\"graph\" transform=\"scale(1 1) rotate(0) translate(4 548)\">\r\n<title>Tree</title>\r\n<polygon fill=\"white\" stroke=\"none\" points=\"-4,4 -4,-548 2346,-548 2346,4 -4,4\"/>\r\n<!-- 0 -->\r\n<g id=\"node1\" class=\"node\"><title>0</title>\r\n<path fill=\"#e89152\" stroke=\"black\" d=\"M1205.5,-544C1205.5,-544 1074.5,-544 1074.5,-544 1068.5,-544 1062.5,-538 1062.5,-532 1062.5,-532 1062.5,-473 1062.5,-473 1062.5,-467 1068.5,-461 1074.5,-461 1074.5,-461 1205.5,-461 1205.5,-461 1211.5,-461 1217.5,-467 1217.5,-473 1217.5,-473 1217.5,-532 1217.5,-532 1217.5,-538 1211.5,-544 1205.5,-544\"/>\r\n<text text-anchor=\"start\" x=\"1074.5\" y=\"-528.8\" font-family=\"Helvetica,sans-Serif\" font-size=\"14.00\">nr.employed ≤ 0.469</text>\r\n<text text-anchor=\"start\" x=\"1111\" y=\"-513.8\" font-family=\"Helvetica,sans-Serif\" font-size=\"14.00\">gini = 0.2</text>\r\n<text text-anchor=\"start\" x=\"1084\" y=\"-498.8\" font-family=\"Helvetica,sans-Serif\" font-size=\"14.00\">samples = 41188</text>\r\n<text text-anchor=\"start\" x=\"1070.5\" y=\"-483.8\" font-family=\"Helvetica,sans-Serif\" font-size=\"14.00\">value = [36548, 4640]</text>\r\n<text text-anchor=\"start\" x=\"1111\" y=\"-468.8\" font-family=\"Helvetica,sans-Serif\" font-size=\"14.00\">class = 0</text>\r\n</g>\r\n<!-- 1 -->\r\n<g id=\"node2\" class=\"node\"><title>1</title>\r\n<path fill=\"#fae6d8\" stroke=\"black\" d=\"M909,-425C909,-425 787,-425 787,-425 781,-425 775,-419 775,-413 775,-413 775,-354 775,-354 775,-348 781,-342 787,-342 787,-342 909,-342 909,-342 915,-342 921,-348 921,-354 921,-354 921,-413 921,-413 921,-419 915,-425 909,-425\"/>\r\n<text text-anchor=\"start\" x=\"796.5\" y=\"-409.8\" font-family=\"Helvetica,sans-Serif\" font-size=\"14.00\">duration ≤ 0.811</text>\r\n<text text-anchor=\"start\" x=\"810.5\" y=\"-394.8\" font-family=\"Helvetica,sans-Serif\" font-size=\"14.00\">gini = 0.494</text>\r\n<text text-anchor=\"start\" x=\"796.5\" y=\"-379.8\" font-family=\"Helvetica,sans-Serif\" font-size=\"14.00\">samples = 4964</text>\r\n<text text-anchor=\"start\" x=\"783\" y=\"-364.8\" font-family=\"Helvetica,sans-Serif\" font-size=\"14.00\">value = [2755, 2209]</text>\r\n<text text-anchor=\"start\" x=\"819\" y=\"-349.8\" font-family=\"Helvetica,sans-Serif\" font-size=\"14.00\">class = 0</text>\r\n</g>\r\n<!-- 0&#45;&gt;1 -->\r\n<g id=\"edge1\" class=\"edge\"><title>0&#45;&gt;1</title>\r\n<path fill=\"none\" stroke=\"black\" d=\"M1062.13,-470.3C1021.54,-454.034 971.884,-434.138 930.614,-417.602\"/>\r\n<polygon fill=\"black\" stroke=\"black\" points=\"931.716,-414.273 921.131,-413.803 929.112,-420.771 931.716,-414.273\"/>\r\n<text text-anchor=\"middle\" x=\"930.966\" y=\"-433.087\" font-family=\"Helvetica,sans-Serif\" font-size=\"14.00\">True</text>\r\n</g>\r\n<!-- 16 -->\r\n<g id=\"node17\" class=\"node\"><title>16</title>\r\n<path fill=\"#e78a47\" stroke=\"black\" d=\"M1508.5,-425C1508.5,-425 1377.5,-425 1377.5,-425 1371.5,-425 1365.5,-419 1365.5,-413 1365.5,-413 1365.5,-354 1365.5,-354 1365.5,-348 1371.5,-342 1377.5,-342 1377.5,-342 1508.5,-342 1508.5,-342 1514.5,-342 1520.5,-348 1520.5,-354 1520.5,-354 1520.5,-413 1520.5,-413 1520.5,-419 1514.5,-425 1508.5,-425\"/>\r\n<text text-anchor=\"start\" x=\"1391.5\" y=\"-409.8\" font-family=\"Helvetica,sans-Serif\" font-size=\"14.00\">duration ≤ 0.882</text>\r\n<text text-anchor=\"start\" x=\"1405.5\" y=\"-394.8\" font-family=\"Helvetica,sans-Serif\" font-size=\"14.00\">gini = 0.125</text>\r\n<text text-anchor=\"start\" x=\"1387\" y=\"-379.8\" font-family=\"Helvetica,sans-Serif\" font-size=\"14.00\">samples = 36224</text>\r\n<text text-anchor=\"start\" x=\"1373.5\" y=\"-364.8\" font-family=\"Helvetica,sans-Serif\" font-size=\"14.00\">value = [33793, 2431]</text>\r\n<text text-anchor=\"start\" x=\"1414\" y=\"-349.8\" font-family=\"Helvetica,sans-Serif\" font-size=\"14.00\">class = 0</text>\r\n</g>\r\n<!-- 0&#45;&gt;16 -->\r\n<g id=\"edge16\" class=\"edge\"><title>0&#45;&gt;16</title>\r\n<path fill=\"none\" stroke=\"black\" d=\"M1217.64,-471.522C1259.86,-455.216 1312.23,-434.996 1355.85,-418.152\"/>\r\n<polygon fill=\"black\" stroke=\"black\" points=\"1357.23,-421.369 1365.3,-414.502 1354.71,-414.839 1357.23,-421.369\"/>\r\n<text text-anchor=\"middle\" x=\"1355.18\" y=\"-433.661\" font-family=\"Helvetica,sans-Serif\" font-size=\"14.00\">False</text>\r\n</g>\r\n<!-- 2 -->\r\n<g id=\"node3\" class=\"node\"><title>2</title>\r\n<path fill=\"#ea9b63\" stroke=\"black\" d=\"M497.5,-306C497.5,-306 344.5,-306 344.5,-306 338.5,-306 332.5,-300 332.5,-294 332.5,-294 332.5,-235 332.5,-235 332.5,-229 338.5,-223 344.5,-223 344.5,-223 497.5,-223 497.5,-223 503.5,-223 509.5,-229 509.5,-235 509.5,-235 509.5,-294 509.5,-294 509.5,-300 503.5,-306 497.5,-306\"/>\r\n<text text-anchor=\"start\" x=\"340.5\" y=\"-290.8\" font-family=\"Helvetica,sans-Serif\" font-size=\"14.00\">poutcome_success ≤ 0.5</text>\r\n<text text-anchor=\"start\" x=\"383.5\" y=\"-275.8\" font-family=\"Helvetica,sans-Serif\" font-size=\"14.00\">gini = 0.287</text>\r\n<text text-anchor=\"start\" x=\"369.5\" y=\"-260.8\" font-family=\"Helvetica,sans-Serif\" font-size=\"14.00\">samples = 1891</text>\r\n<text text-anchor=\"start\" x=\"360\" y=\"-245.8\" font-family=\"Helvetica,sans-Serif\" font-size=\"14.00\">value = [1563, 328]</text>\r\n<text text-anchor=\"start\" x=\"392\" y=\"-230.8\" font-family=\"Helvetica,sans-Serif\" font-size=\"14.00\">class = 0</text>\r\n</g>\r\n<!-- 1&#45;&gt;2 -->\r\n<g id=\"edge2\" class=\"edge\"><title>1&#45;&gt;2</title>\r\n<path fill=\"none\" stroke=\"black\" d=\"M774.596,-362.387C704.166,-343.089 597.32,-313.812 519.512,-292.493\"/>\r\n<polygon fill=\"black\" stroke=\"black\" points=\"520.263,-289.07 509.693,-289.802 518.413,-295.821 520.263,-289.07\"/>\r\n</g>\r\n<!-- 9 -->\r\n<g id=\"node10\" class=\"node\"><title>9</title>\r\n<path fill=\"#b6dbf5\" stroke=\"black\" d=\"M924.5,-306C924.5,-306 771.5,-306 771.5,-306 765.5,-306 759.5,-300 759.5,-294 759.5,-294 759.5,-235 759.5,-235 759.5,-229 765.5,-223 771.5,-223 771.5,-223 924.5,-223 924.5,-223 930.5,-223 936.5,-229 936.5,-235 936.5,-235 936.5,-294 936.5,-294 936.5,-300 930.5,-306 924.5,-306\"/>\r\n<text text-anchor=\"start\" x=\"767.5\" y=\"-290.8\" font-family=\"Helvetica,sans-Serif\" font-size=\"14.00\">poutcome_success ≤ 0.5</text>\r\n<text text-anchor=\"start\" x=\"810.5\" y=\"-275.8\" font-family=\"Helvetica,sans-Serif\" font-size=\"14.00\">gini = 0.475</text>\r\n<text text-anchor=\"start\" x=\"796.5\" y=\"-260.8\" font-family=\"Helvetica,sans-Serif\" font-size=\"14.00\">samples = 3073</text>\r\n<text text-anchor=\"start\" x=\"783\" y=\"-245.8\" font-family=\"Helvetica,sans-Serif\" font-size=\"14.00\">value = [1192, 1881]</text>\r\n<text text-anchor=\"start\" x=\"819\" y=\"-230.8\" font-family=\"Helvetica,sans-Serif\" font-size=\"14.00\">class = 1</text>\r\n</g>\r\n<!-- 1&#45;&gt;9 -->\r\n<g id=\"edge9\" class=\"edge\"><title>1&#45;&gt;9</title>\r\n<path fill=\"none\" stroke=\"black\" d=\"M848,-341.907C848,-333.649 848,-324.864 848,-316.302\"/>\r\n<polygon fill=\"black\" stroke=\"black\" points=\"851.5,-316.021 848,-306.021 844.5,-316.021 851.5,-316.021\"/>\r\n</g>\r\n<!-- 3 -->\r\n<g id=\"node4\" class=\"node\"><title>3</title>\r\n<path fill=\"#e99457\" stroke=\"black\" d=\"M262,-187C262,-187 148,-187 148,-187 142,-187 136,-181 136,-175 136,-175 136,-116 136,-116 136,-110 142,-104 148,-104 148,-104 262,-104 262,-104 268,-104 274,-110 274,-116 274,-116 274,-175 274,-175 274,-181 268,-187 262,-187\"/>\r\n<text text-anchor=\"start\" x=\"153.5\" y=\"-171.8\" font-family=\"Helvetica,sans-Serif\" font-size=\"14.00\">duration ≤ 0.792</text>\r\n<text text-anchor=\"start\" x=\"167.5\" y=\"-156.8\" font-family=\"Helvetica,sans-Serif\" font-size=\"14.00\">gini = 0.228</text>\r\n<text text-anchor=\"start\" x=\"153.5\" y=\"-141.8\" font-family=\"Helvetica,sans-Serif\" font-size=\"14.00\">samples = 1605</text>\r\n<text text-anchor=\"start\" x=\"144\" y=\"-126.8\" font-family=\"Helvetica,sans-Serif\" font-size=\"14.00\">value = [1394, 211]</text>\r\n<text text-anchor=\"start\" x=\"176\" y=\"-111.8\" font-family=\"Helvetica,sans-Serif\" font-size=\"14.00\">class = 0</text>\r\n</g>\r\n<!-- 2&#45;&gt;3 -->\r\n<g id=\"edge3\" class=\"edge\"><title>2&#45;&gt;3</title>\r\n<path fill=\"none\" stroke=\"black\" d=\"M346.06,-222.907C325.681,-211.869 303.564,-199.889 283.019,-188.76\"/>\r\n<polygon fill=\"black\" stroke=\"black\" points=\"284.472,-185.567 274.012,-183.881 281.138,-191.722 284.472,-185.567\"/>\r\n</g>\r\n<!-- 6 -->\r\n<g id=\"node7\" class=\"node\"><title>6</title>\r\n<path fill=\"#f7d8c2\" stroke=\"black\" d=\"M474,-187C474,-187 368,-187 368,-187 362,-187 356,-181 356,-175 356,-175 356,-116 356,-116 356,-110 362,-104 368,-104 368,-104 474,-104 474,-104 480,-104 486,-110 486,-116 486,-116 486,-175 486,-175 486,-181 480,-187 474,-187\"/>\r\n<text text-anchor=\"start\" x=\"369.5\" y=\"-171.8\" font-family=\"Helvetica,sans-Serif\" font-size=\"14.00\">duration ≤ 0.802</text>\r\n<text text-anchor=\"start\" x=\"383.5\" y=\"-156.8\" font-family=\"Helvetica,sans-Serif\" font-size=\"14.00\">gini = 0.483</text>\r\n<text text-anchor=\"start\" x=\"373.5\" y=\"-141.8\" font-family=\"Helvetica,sans-Serif\" font-size=\"14.00\">samples = 286</text>\r\n<text text-anchor=\"start\" x=\"364\" y=\"-126.8\" font-family=\"Helvetica,sans-Serif\" font-size=\"14.00\">value = [169, 117]</text>\r\n<text text-anchor=\"start\" x=\"392\" y=\"-111.8\" font-family=\"Helvetica,sans-Serif\" font-size=\"14.00\">class = 0</text>\r\n</g>\r\n<!-- 2&#45;&gt;6 -->\r\n<g id=\"edge6\" class=\"edge\"><title>2&#45;&gt;6</title>\r\n<path fill=\"none\" stroke=\"black\" d=\"M421,-222.907C421,-214.649 421,-205.864 421,-197.302\"/>\r\n<polygon fill=\"black\" stroke=\"black\" points=\"424.5,-197.021 421,-187.021 417.5,-197.021 424.5,-197.021\"/>\r\n</g>\r\n<!-- 4 -->\r\n<g id=\"node5\" class=\"node\"><title>4</title>\r\n<path fill=\"#e78a47\" stroke=\"black\" d=\"M110,-68C110,-68 12,-68 12,-68 6,-68 7.10543e-015,-62 7.10543e-015,-56 7.10543e-015,-56 7.10543e-015,-12 7.10543e-015,-12 7.10543e-015,-6 6,-0 12,-0 12,-0 110,-0 110,-0 116,-0 122,-6 122,-12 122,-12 122,-56 122,-56 122,-62 116,-68 110,-68\"/>\r\n<text text-anchor=\"start\" x=\"23.5\" y=\"-52.8\" font-family=\"Helvetica,sans-Serif\" font-size=\"14.00\">gini = 0.126</text>\r\n<text text-anchor=\"start\" x=\"13.5\" y=\"-37.8\" font-family=\"Helvetica,sans-Serif\" font-size=\"14.00\">samples = 991</text>\r\n<text text-anchor=\"start\" x=\"8\" y=\"-22.8\" font-family=\"Helvetica,sans-Serif\" font-size=\"14.00\">value = [924, 67]</text>\r\n<text text-anchor=\"start\" x=\"32\" y=\"-7.8\" font-family=\"Helvetica,sans-Serif\" font-size=\"14.00\">class = 0</text>\r\n</g>\r\n<!-- 3&#45;&gt;4 -->\r\n<g id=\"edge4\" class=\"edge\"><title>3&#45;&gt;4</title>\r\n<path fill=\"none\" stroke=\"black\" d=\"M151.38,-103.726C138.785,-94.1494 125.387,-83.9611 112.871,-74.4438\"/>\r\n<polygon fill=\"black\" stroke=\"black\" points=\"114.87,-71.5666 104.791,-68.2996 110.633,-77.1386 114.87,-71.5666\"/>\r\n</g>\r\n<!-- 5 -->\r\n<g id=\"node6\" class=\"node\"><title>5</title>\r\n<path fill=\"#eda876\" stroke=\"black\" d=\"M258,-68C258,-68 152,-68 152,-68 146,-68 140,-62 140,-56 140,-56 140,-12 140,-12 140,-6 146,-0 152,-0 152,-0 258,-0 258,-0 264,-0 270,-6 270,-12 270,-12 270,-56 270,-56 270,-62 264,-68 258,-68\"/>\r\n<text text-anchor=\"start\" x=\"167.5\" y=\"-52.8\" font-family=\"Helvetica,sans-Serif\" font-size=\"14.00\">gini = 0.359</text>\r\n<text text-anchor=\"start\" x=\"157.5\" y=\"-37.8\" font-family=\"Helvetica,sans-Serif\" font-size=\"14.00\">samples = 614</text>\r\n<text text-anchor=\"start\" x=\"148\" y=\"-22.8\" font-family=\"Helvetica,sans-Serif\" font-size=\"14.00\">value = [470, 144]</text>\r\n<text text-anchor=\"start\" x=\"176\" y=\"-7.8\" font-family=\"Helvetica,sans-Serif\" font-size=\"14.00\">class = 0</text>\r\n</g>\r\n<!-- 3&#45;&gt;5 -->\r\n<g id=\"edge5\" class=\"edge\"><title>3&#45;&gt;5</title>\r\n<path fill=\"none\" stroke=\"black\" d=\"M205,-103.726C205,-95.5175 205,-86.8595 205,-78.56\"/>\r\n<polygon fill=\"black\" stroke=\"black\" points=\"208.5,-78.2996 205,-68.2996 201.5,-78.2996 208.5,-78.2996\"/>\r\n</g>\r\n<!-- 7 -->\r\n<g id=\"node8\" class=\"node\"><title>7</title>\r\n<path fill=\"#f1bb93\" stroke=\"black\" d=\"M398,-68C398,-68 300,-68 300,-68 294,-68 288,-62 288,-56 288,-56 288,-12 288,-12 288,-6 294,-0 300,-0 300,-0 398,-0 398,-0 404,-0 410,-6 410,-12 410,-12 410,-56 410,-56 410,-62 404,-68 398,-68\"/>\r\n<text text-anchor=\"start\" x=\"315.5\" y=\"-52.8\" font-family=\"Helvetica,sans-Serif\" font-size=\"14.00\">gini = 0.43</text>\r\n<text text-anchor=\"start\" x=\"301.5\" y=\"-37.8\" font-family=\"Helvetica,sans-Serif\" font-size=\"14.00\">samples = 201</text>\r\n<text text-anchor=\"start\" x=\"296\" y=\"-22.8\" font-family=\"Helvetica,sans-Serif\" font-size=\"14.00\">value = [138, 63]</text>\r\n<text text-anchor=\"start\" x=\"320\" y=\"-7.8\" font-family=\"Helvetica,sans-Serif\" font-size=\"14.00\">class = 0</text>\r\n</g>\r\n<!-- 6&#45;&gt;7 -->\r\n<g id=\"edge7\" class=\"edge\"><title>6&#45;&gt;7</title>\r\n<path fill=\"none\" stroke=\"black\" d=\"M394.19,-103.726C388.432,-94.9703 382.339,-85.7032 376.554,-76.9051\"/>\r\n<polygon fill=\"black\" stroke=\"black\" points=\"379.314,-74.7322 370.896,-68.2996 373.465,-78.5781 379.314,-74.7322\"/>\r\n</g>\r\n<!-- 8 -->\r\n<g id=\"node9\" class=\"node\"><title>8</title>\r\n<path fill=\"#abd5f4\" stroke=\"black\" d=\"M529.5,-68C529.5,-68 440.5,-68 440.5,-68 434.5,-68 428.5,-62 428.5,-56 428.5,-56 428.5,-12 428.5,-12 428.5,-6 434.5,-0 440.5,-0 440.5,-0 529.5,-0 529.5,-0 535.5,-0 541.5,-6 541.5,-12 541.5,-12 541.5,-56 541.5,-56 541.5,-62 535.5,-68 529.5,-68\"/>\r\n<text text-anchor=\"start\" x=\"447.5\" y=\"-52.8\" font-family=\"Helvetica,sans-Serif\" font-size=\"14.00\">gini = 0.463</text>\r\n<text text-anchor=\"start\" x=\"441.5\" y=\"-37.8\" font-family=\"Helvetica,sans-Serif\" font-size=\"14.00\">samples = 85</text>\r\n<text text-anchor=\"start\" x=\"436.5\" y=\"-22.8\" font-family=\"Helvetica,sans-Serif\" font-size=\"14.00\">value = [31, 54]</text>\r\n<text text-anchor=\"start\" x=\"456\" y=\"-7.8\" font-family=\"Helvetica,sans-Serif\" font-size=\"14.00\">class = 1</text>\r\n</g>\r\n<!-- 6&#45;&gt;8 -->\r\n<g id=\"edge8\" class=\"edge\"><title>6&#45;&gt;8</title>\r\n<path fill=\"none\" stroke=\"black\" d=\"M444.831,-103.726C449.896,-95.0615 455.252,-85.8962 460.347,-77.1802\"/>\r\n<polygon fill=\"black\" stroke=\"black\" points=\"463.513,-78.6992 465.537,-68.2996 457.469,-75.167 463.513,-78.6992\"/>\r\n</g>\r\n<!-- 10 -->\r\n<g id=\"node11\" class=\"node\"><title>10</title>\r\n<path fill=\"#e7f3fc\" stroke=\"black\" d=\"M826,-187C826,-187 704,-187 704,-187 698,-187 692,-181 692,-175 692,-175 692,-116 692,-116 692,-110 698,-104 704,-104 704,-104 826,-104 826,-104 832,-104 838,-110 838,-116 838,-116 838,-175 838,-175 838,-181 832,-187 826,-187\"/>\r\n<text text-anchor=\"start\" x=\"713.5\" y=\"-171.8\" font-family=\"Helvetica,sans-Serif\" font-size=\"14.00\">duration ≤ 0.839</text>\r\n<text text-anchor=\"start\" x=\"727.5\" y=\"-156.8\" font-family=\"Helvetica,sans-Serif\" font-size=\"14.00\">gini = 0.498</text>\r\n<text text-anchor=\"start\" x=\"713.5\" y=\"-141.8\" font-family=\"Helvetica,sans-Serif\" font-size=\"14.00\">samples = 2242</text>\r\n<text text-anchor=\"start\" x=\"700\" y=\"-126.8\" font-family=\"Helvetica,sans-Serif\" font-size=\"14.00\">value = [1048, 1194]</text>\r\n<text text-anchor=\"start\" x=\"736\" y=\"-111.8\" font-family=\"Helvetica,sans-Serif\" font-size=\"14.00\">class = 1</text>\r\n</g>\r\n<!-- 9&#45;&gt;10 -->\r\n<g id=\"edge10\" class=\"edge\"><title>9&#45;&gt;10</title>\r\n<path fill=\"none\" stroke=\"black\" d=\"M819.204,-222.907C812.894,-214.014 806.152,-204.509 799.641,-195.331\"/>\r\n<polygon fill=\"black\" stroke=\"black\" points=\"802.386,-193.152 793.746,-187.021 796.677,-197.202 802.386,-193.152\"/>\r\n</g>\r\n<!-- 13 -->\r\n<g id=\"node14\" class=\"node\"><title>13</title>\r\n<path fill=\"#63b2ea\" stroke=\"black\" d=\"M991.5,-187C991.5,-187 868.5,-187 868.5,-187 862.5,-187 856.5,-181 856.5,-175 856.5,-175 856.5,-116 856.5,-116 856.5,-110 862.5,-104 868.5,-104 868.5,-104 991.5,-104 991.5,-104 997.5,-104 1003.5,-110 1003.5,-116 1003.5,-116 1003.5,-175 1003.5,-175 1003.5,-181 997.5,-187 991.5,-187\"/>\r\n<text text-anchor=\"start\" x=\"864.5\" y=\"-171.8\" font-family=\"Helvetica,sans-Serif\" font-size=\"14.00\">nr.employed ≤ 0.215</text>\r\n<text text-anchor=\"start\" x=\"892.5\" y=\"-156.8\" font-family=\"Helvetica,sans-Serif\" font-size=\"14.00\">gini = 0.287</text>\r\n<text text-anchor=\"start\" x=\"882.5\" y=\"-141.8\" font-family=\"Helvetica,sans-Serif\" font-size=\"14.00\">samples = 831</text>\r\n<text text-anchor=\"start\" x=\"873\" y=\"-126.8\" font-family=\"Helvetica,sans-Serif\" font-size=\"14.00\">value = [144, 687]</text>\r\n<text text-anchor=\"start\" x=\"901\" y=\"-111.8\" font-family=\"Helvetica,sans-Serif\" font-size=\"14.00\">class = 1</text>\r\n</g>\r\n<!-- 9&#45;&gt;13 -->\r\n<g id=\"edge13\" class=\"edge\"><title>9&#45;&gt;13</title>\r\n<path fill=\"none\" stroke=\"black\" d=\"M876.449,-222.907C882.683,-214.014 889.344,-204.509 895.777,-195.331\"/>\r\n<polygon fill=\"black\" stroke=\"black\" points=\"898.728,-197.219 901.601,-187.021 892.995,-193.201 898.728,-197.219\"/>\r\n</g>\r\n<!-- 11 -->\r\n<g id=\"node12\" class=\"node\"><title>11</title>\r\n<path fill=\"#f8dfcd\" stroke=\"black\" d=\"M678,-68C678,-68 572,-68 572,-68 566,-68 560,-62 560,-56 560,-56 560,-12 560,-12 560,-6 566,-0 572,-0 572,-0 678,-0 678,-0 684,-0 690,-6 690,-12 690,-12 690,-56 690,-56 690,-62 684,-68 678,-68\"/>\r\n<text text-anchor=\"start\" x=\"591.5\" y=\"-52.8\" font-family=\"Helvetica,sans-Serif\" font-size=\"14.00\">gini = 0.49</text>\r\n<text text-anchor=\"start\" x=\"577.5\" y=\"-37.8\" font-family=\"Helvetica,sans-Serif\" font-size=\"14.00\">samples = 965</text>\r\n<text text-anchor=\"start\" x=\"568\" y=\"-22.8\" font-family=\"Helvetica,sans-Serif\" font-size=\"14.00\">value = [552, 413]</text>\r\n<text text-anchor=\"start\" x=\"596\" y=\"-7.8\" font-family=\"Helvetica,sans-Serif\" font-size=\"14.00\">class = 0</text>\r\n</g>\r\n<!-- 10&#45;&gt;11 -->\r\n<g id=\"edge11\" class=\"edge\"><title>10&#45;&gt;11</title>\r\n<path fill=\"none\" stroke=\"black\" d=\"M712.869,-103.726C700.741,-94.2406 687.847,-84.1551 675.778,-74.7159\"/>\r\n<polygon fill=\"black\" stroke=\"black\" points=\"677.608,-71.7035 667.575,-68.2996 673.295,-77.2173 677.608,-71.7035\"/>\r\n</g>\r\n<!-- 12 -->\r\n<g id=\"node13\" class=\"node\"><title>12</title>\r\n<path fill=\"#b7dbf6\" stroke=\"black\" d=\"M826,-68C826,-68 720,-68 720,-68 714,-68 708,-62 708,-56 708,-56 708,-12 708,-12 708,-6 714,-0 720,-0 720,-0 826,-0 826,-0 832,-0 838,-6 838,-12 838,-12 838,-56 838,-56 838,-62 832,-68 826,-68\"/>\r\n<text text-anchor=\"start\" x=\"735.5\" y=\"-52.8\" font-family=\"Helvetica,sans-Serif\" font-size=\"14.00\">gini = 0.475</text>\r\n<text text-anchor=\"start\" x=\"721.5\" y=\"-37.8\" font-family=\"Helvetica,sans-Serif\" font-size=\"14.00\">samples = 1277</text>\r\n<text text-anchor=\"start\" x=\"716\" y=\"-22.8\" font-family=\"Helvetica,sans-Serif\" font-size=\"14.00\">value = [496, 781]</text>\r\n<text text-anchor=\"start\" x=\"744\" y=\"-7.8\" font-family=\"Helvetica,sans-Serif\" font-size=\"14.00\">class = 1</text>\r\n</g>\r\n<!-- 10&#45;&gt;12 -->\r\n<g id=\"edge12\" class=\"edge\"><title>10&#45;&gt;12</title>\r\n<path fill=\"none\" stroke=\"black\" d=\"M767.979,-103.726C768.585,-95.4263 769.225,-86.6671 769.838,-78.2834\"/>\r\n<polygon fill=\"black\" stroke=\"black\" points=\"773.329,-78.5281 770.567,-68.2996 766.348,-78.018 773.329,-78.5281\"/>\r\n</g>\r\n<!-- 14 -->\r\n<g id=\"node15\" class=\"node\"><title>14</title>\r\n<path fill=\"#5eafea\" stroke=\"black\" d=\"M974,-68C974,-68 868,-68 868,-68 862,-68 856,-62 856,-56 856,-56 856,-12 856,-12 856,-6 862,-0 868,-0 868,-0 974,-0 974,-0 980,-0 986,-6 986,-12 986,-12 986,-56 986,-56 986,-62 980,-68 974,-68\"/>\r\n<text text-anchor=\"start\" x=\"883.5\" y=\"-52.8\" font-family=\"Helvetica,sans-Serif\" font-size=\"14.00\">gini = 0.264</text>\r\n<text text-anchor=\"start\" x=\"873.5\" y=\"-37.8\" font-family=\"Helvetica,sans-Serif\" font-size=\"14.00\">samples = 672</text>\r\n<text text-anchor=\"start\" x=\"864\" y=\"-22.8\" font-family=\"Helvetica,sans-Serif\" font-size=\"14.00\">value = [105, 567]</text>\r\n<text text-anchor=\"start\" x=\"892\" y=\"-7.8\" font-family=\"Helvetica,sans-Serif\" font-size=\"14.00\">class = 1</text>\r\n</g>\r\n<!-- 13&#45;&gt;14 -->\r\n<g id=\"edge14\" class=\"edge\"><title>13&#45;&gt;14</title>\r\n<path fill=\"none\" stroke=\"black\" d=\"M926.649,-103.726C925.967,-95.4263 925.247,-86.6671 924.558,-78.2834\"/>\r\n<polygon fill=\"black\" stroke=\"black\" points=\"928.044,-77.9793 923.737,-68.2996 921.068,-78.5527 928.044,-77.9793\"/>\r\n</g>\r\n<!-- 15 -->\r\n<g id=\"node16\" class=\"node\"><title>15</title>\r\n<path fill=\"#79bded\" stroke=\"black\" d=\"M1114,-68C1114,-68 1016,-68 1016,-68 1010,-68 1004,-62 1004,-56 1004,-56 1004,-12 1004,-12 1004,-6 1010,-0 1016,-0 1016,-0 1114,-0 1114,-0 1120,-0 1126,-6 1126,-12 1126,-12 1126,-56 1126,-56 1126,-62 1120,-68 1114,-68\"/>\r\n<text text-anchor=\"start\" x=\"1031.5\" y=\"-52.8\" font-family=\"Helvetica,sans-Serif\" font-size=\"14.00\">gini = 0.37</text>\r\n<text text-anchor=\"start\" x=\"1017.5\" y=\"-37.8\" font-family=\"Helvetica,sans-Serif\" font-size=\"14.00\">samples = 159</text>\r\n<text text-anchor=\"start\" x=\"1012\" y=\"-22.8\" font-family=\"Helvetica,sans-Serif\" font-size=\"14.00\">value = [39, 120]</text>\r\n<text text-anchor=\"start\" x=\"1036\" y=\"-7.8\" font-family=\"Helvetica,sans-Serif\" font-size=\"14.00\">class = 1</text>\r\n</g>\r\n<!-- 13&#45;&gt;15 -->\r\n<g id=\"edge15\" class=\"edge\"><title>13&#45;&gt;15</title>\r\n<path fill=\"none\" stroke=\"black\" d=\"M980.269,-103.726C991.964,-94.2406 1004.4,-84.1551 1016.04,-74.7159\"/>\r\n<polygon fill=\"black\" stroke=\"black\" points=\"1018.38,-77.3173 1023.95,-68.2996 1013.97,-71.8808 1018.38,-77.3173\"/>\r\n</g>\r\n<!-- 17 -->\r\n<g id=\"node18\" class=\"node\"><title>17</title>\r\n<path fill=\"#e6853f\" stroke=\"black\" d=\"M1508.5,-306C1508.5,-306 1377.5,-306 1377.5,-306 1371.5,-306 1365.5,-300 1365.5,-294 1365.5,-294 1365.5,-235 1365.5,-235 1365.5,-229 1371.5,-223 1377.5,-223 1377.5,-223 1508.5,-223 1508.5,-223 1514.5,-223 1520.5,-229 1520.5,-235 1520.5,-235 1520.5,-294 1520.5,-294 1520.5,-300 1514.5,-306 1508.5,-306\"/>\r\n<text text-anchor=\"start\" x=\"1405.5\" y=\"-290.8\" font-family=\"Helvetica,sans-Serif\" font-size=\"14.00\">month ≤ 4.5</text>\r\n<text text-anchor=\"start\" x=\"1405.5\" y=\"-275.8\" font-family=\"Helvetica,sans-Serif\" font-size=\"14.00\">gini = 0.061</text>\r\n<text text-anchor=\"start\" x=\"1387\" y=\"-260.8\" font-family=\"Helvetica,sans-Serif\" font-size=\"14.00\">samples = 33232</text>\r\n<text text-anchor=\"start\" x=\"1373.5\" y=\"-245.8\" font-family=\"Helvetica,sans-Serif\" font-size=\"14.00\">value = [32188, 1044]</text>\r\n<text text-anchor=\"start\" x=\"1414\" y=\"-230.8\" font-family=\"Helvetica,sans-Serif\" font-size=\"14.00\">class = 0</text>\r\n</g>\r\n<!-- 16&#45;&gt;17 -->\r\n<g id=\"edge17\" class=\"edge\"><title>16&#45;&gt;17</title>\r\n<path fill=\"none\" stroke=\"black\" d=\"M1443,-341.907C1443,-333.649 1443,-324.864 1443,-316.302\"/>\r\n<polygon fill=\"black\" stroke=\"black\" points=\"1446.5,-316.021 1443,-306.021 1439.5,-316.021 1446.5,-316.021\"/>\r\n</g>\r\n<!-- 24 -->\r\n<g id=\"node25\" class=\"node\"><title>24</title>\r\n<path fill=\"#fbeee4\" stroke=\"black\" d=\"M1961,-306C1961,-306 1839,-306 1839,-306 1833,-306 1827,-300 1827,-294 1827,-294 1827,-235 1827,-235 1827,-229 1833,-223 1839,-223 1839,-223 1961,-223 1961,-223 1967,-223 1973,-229 1973,-235 1973,-235 1973,-294 1973,-294 1973,-300 1967,-306 1961,-306\"/>\r\n<text text-anchor=\"start\" x=\"1857\" y=\"-290.8\" font-family=\"Helvetica,sans-Serif\" font-size=\"14.00\">duration ≤ 0.9</text>\r\n<text text-anchor=\"start\" x=\"1862.5\" y=\"-275.8\" font-family=\"Helvetica,sans-Serif\" font-size=\"14.00\">gini = 0.497</text>\r\n<text text-anchor=\"start\" x=\"1848.5\" y=\"-260.8\" font-family=\"Helvetica,sans-Serif\" font-size=\"14.00\">samples = 2992</text>\r\n<text text-anchor=\"start\" x=\"1835\" y=\"-245.8\" font-family=\"Helvetica,sans-Serif\" font-size=\"14.00\">value = [1605, 1387]</text>\r\n<text text-anchor=\"start\" x=\"1871\" y=\"-230.8\" font-family=\"Helvetica,sans-Serif\" font-size=\"14.00\">class = 0</text>\r\n</g>\r\n<!-- 16&#45;&gt;24 -->\r\n<g id=\"edge24\" class=\"edge\"><title>16&#45;&gt;24</title>\r\n<path fill=\"none\" stroke=\"black\" d=\"M1520.52,-362.653C1602.83,-341.581 1732.44,-308.399 1816.83,-286.792\"/>\r\n<polygon fill=\"black\" stroke=\"black\" points=\"1817.82,-290.153 1826.64,-284.282 1816.08,-283.371 1817.82,-290.153\"/>\r\n</g>\r\n<!-- 18 -->\r\n<g id=\"node19\" class=\"node\"><title>18</title>\r\n<path fill=\"#eb9c64\" stroke=\"black\" d=\"M1420,-187C1420,-187 1306,-187 1306,-187 1300,-187 1294,-181 1294,-175 1294,-175 1294,-116 1294,-116 1294,-110 1300,-104 1306,-104 1306,-104 1420,-104 1420,-104 1426,-104 1432,-110 1432,-116 1432,-116 1432,-175 1432,-175 1432,-181 1426,-187 1420,-187\"/>\r\n<text text-anchor=\"start\" x=\"1304.5\" y=\"-171.8\" font-family=\"Helvetica,sans-Serif\" font-size=\"14.00\">euribor3m ≤ 1.525</text>\r\n<text text-anchor=\"start\" x=\"1325.5\" y=\"-156.8\" font-family=\"Helvetica,sans-Serif\" font-size=\"14.00\">gini = 0.293</text>\r\n<text text-anchor=\"start\" x=\"1311.5\" y=\"-141.8\" font-family=\"Helvetica,sans-Serif\" font-size=\"14.00\">samples = 2476</text>\r\n<text text-anchor=\"start\" x=\"1302\" y=\"-126.8\" font-family=\"Helvetica,sans-Serif\" font-size=\"14.00\">value = [2035, 441]</text>\r\n<text text-anchor=\"start\" x=\"1334\" y=\"-111.8\" font-family=\"Helvetica,sans-Serif\" font-size=\"14.00\">class = 0</text>\r\n</g>\r\n<!-- 17&#45;&gt;18 -->\r\n<g id=\"edge18\" class=\"edge\"><title>17&#45;&gt;18</title>\r\n<path fill=\"none\" stroke=\"black\" d=\"M1415.24,-222.907C1409.16,-214.014 1402.66,-204.509 1396.39,-195.331\"/>\r\n<polygon fill=\"black\" stroke=\"black\" points=\"1399.24,-193.3 1390.71,-187.021 1393.46,-197.251 1399.24,-193.3\"/>\r\n</g>\r\n<!-- 21 -->\r\n<g id=\"node22\" class=\"node\"><title>21</title>\r\n<path fill=\"#e6843d\" stroke=\"black\" d=\"M1584,-187C1584,-187 1462,-187 1462,-187 1456,-187 1450,-181 1450,-175 1450,-175 1450,-116 1450,-116 1450,-110 1456,-104 1462,-104 1462,-104 1584,-104 1584,-104 1590,-104 1596,-110 1596,-116 1596,-116 1596,-175 1596,-175 1596,-181 1590,-187 1584,-187\"/>\r\n<text text-anchor=\"start\" x=\"1471.5\" y=\"-171.8\" font-family=\"Helvetica,sans-Serif\" font-size=\"14.00\">duration ≤ 0.868</text>\r\n<text text-anchor=\"start\" x=\"1485.5\" y=\"-156.8\" font-family=\"Helvetica,sans-Serif\" font-size=\"14.00\">gini = 0.038</text>\r\n<text text-anchor=\"start\" x=\"1467\" y=\"-141.8\" font-family=\"Helvetica,sans-Serif\" font-size=\"14.00\">samples = 30756</text>\r\n<text text-anchor=\"start\" x=\"1458\" y=\"-126.8\" font-family=\"Helvetica,sans-Serif\" font-size=\"14.00\">value = [30153, 603]</text>\r\n<text text-anchor=\"start\" x=\"1494\" y=\"-111.8\" font-family=\"Helvetica,sans-Serif\" font-size=\"14.00\">class = 0</text>\r\n</g>\r\n<!-- 17&#45;&gt;21 -->\r\n<g id=\"edge21\" class=\"edge\"><title>17&#45;&gt;21</title>\r\n<path fill=\"none\" stroke=\"black\" d=\"M1470.76,-222.907C1476.84,-214.014 1483.34,-204.509 1489.61,-195.331\"/>\r\n<polygon fill=\"black\" stroke=\"black\" points=\"1492.54,-197.251 1495.29,-187.021 1486.76,-193.3 1492.54,-197.251\"/>\r\n</g>\r\n<!-- 19 -->\r\n<g id=\"node20\" class=\"node\"><title>19</title>\r\n<path fill=\"#e9975b\" stroke=\"black\" d=\"M1270,-68C1270,-68 1156,-68 1156,-68 1150,-68 1144,-62 1144,-56 1144,-56 1144,-12 1144,-12 1144,-6 1150,-0 1156,-0 1156,-0 1270,-0 1270,-0 1276,-0 1282,-6 1282,-12 1282,-12 1282,-56 1282,-56 1282,-62 1276,-68 1270,-68\"/>\r\n<text text-anchor=\"start\" x=\"1175.5\" y=\"-52.8\" font-family=\"Helvetica,sans-Serif\" font-size=\"14.00\">gini = 0.251</text>\r\n<text text-anchor=\"start\" x=\"1161.5\" y=\"-37.8\" font-family=\"Helvetica,sans-Serif\" font-size=\"14.00\">samples = 2229</text>\r\n<text text-anchor=\"start\" x=\"1152\" y=\"-22.8\" font-family=\"Helvetica,sans-Serif\" font-size=\"14.00\">value = [1901, 328]</text>\r\n<text text-anchor=\"start\" x=\"1184\" y=\"-7.8\" font-family=\"Helvetica,sans-Serif\" font-size=\"14.00\">class = 0</text>\r\n</g>\r\n<!-- 18&#45;&gt;19 -->\r\n<g id=\"edge19\" class=\"edge\"><title>18&#45;&gt;19</title>\r\n<path fill=\"none\" stroke=\"black\" d=\"M1307.15,-103.726C1294.03,-94.1494 1280.07,-83.9611 1267.03,-74.4438\"/>\r\n<polygon fill=\"black\" stroke=\"black\" points=\"1268.76,-71.3688 1258.62,-68.2996 1264.63,-77.0227 1268.76,-71.3688\"/>\r\n</g>\r\n<!-- 20 -->\r\n<g id=\"node21\" class=\"node\"><title>20</title>\r\n<path fill=\"#fbebe0\" stroke=\"black\" d=\"M1418,-68C1418,-68 1312,-68 1312,-68 1306,-68 1300,-62 1300,-56 1300,-56 1300,-12 1300,-12 1300,-6 1306,-0 1312,-0 1312,-0 1418,-0 1418,-0 1424,-0 1430,-6 1430,-12 1430,-12 1430,-56 1430,-56 1430,-62 1424,-68 1418,-68\"/>\r\n<text text-anchor=\"start\" x=\"1327.5\" y=\"-52.8\" font-family=\"Helvetica,sans-Serif\" font-size=\"14.00\">gini = 0.496</text>\r\n<text text-anchor=\"start\" x=\"1317.5\" y=\"-37.8\" font-family=\"Helvetica,sans-Serif\" font-size=\"14.00\">samples = 247</text>\r\n<text text-anchor=\"start\" x=\"1308\" y=\"-22.8\" font-family=\"Helvetica,sans-Serif\" font-size=\"14.00\">value = [134, 113]</text>\r\n<text text-anchor=\"start\" x=\"1336\" y=\"-7.8\" font-family=\"Helvetica,sans-Serif\" font-size=\"14.00\">class = 0</text>\r\n</g>\r\n<!-- 18&#45;&gt;20 -->\r\n<g id=\"edge20\" class=\"edge\"><title>18&#45;&gt;20</title>\r\n<path fill=\"none\" stroke=\"black\" d=\"M1363.74,-103.726C1363.89,-95.5175 1364.05,-86.8595 1364.2,-78.56\"/>\r\n<polygon fill=\"black\" stroke=\"black\" points=\"1367.71,-78.3619 1364.39,-68.2996 1360.71,-78.234 1367.71,-78.3619\"/>\r\n</g>\r\n<!-- 22 -->\r\n<g id=\"node23\" class=\"node\"><title>22</title>\r\n<path fill=\"#e5823b\" stroke=\"black\" d=\"M1582,-68C1582,-68 1460,-68 1460,-68 1454,-68 1448,-62 1448,-56 1448,-56 1448,-12 1448,-12 1448,-6 1454,-0 1460,-0 1460,-0 1582,-0 1582,-0 1588,-0 1594,-6 1594,-12 1594,-12 1594,-56 1594,-56 1594,-62 1588,-68 1582,-68\"/>\r\n<text text-anchor=\"start\" x=\"1483.5\" y=\"-52.8\" font-family=\"Helvetica,sans-Serif\" font-size=\"14.00\">gini = 0.021</text>\r\n<text text-anchor=\"start\" x=\"1465\" y=\"-37.8\" font-family=\"Helvetica,sans-Serif\" font-size=\"14.00\">samples = 29162</text>\r\n<text text-anchor=\"start\" x=\"1456\" y=\"-22.8\" font-family=\"Helvetica,sans-Serif\" font-size=\"14.00\">value = [28853, 309]</text>\r\n<text text-anchor=\"start\" x=\"1492\" y=\"-7.8\" font-family=\"Helvetica,sans-Serif\" font-size=\"14.00\">class = 0</text>\r\n</g>\r\n<!-- 21&#45;&gt;22 -->\r\n<g id=\"edge22\" class=\"edge\"><title>21&#45;&gt;22</title>\r\n<path fill=\"none\" stroke=\"black\" d=\"M1522.26,-103.726C1522.11,-95.5175 1521.95,-86.8595 1521.8,-78.56\"/>\r\n<polygon fill=\"black\" stroke=\"black\" points=\"1525.29,-78.234 1521.61,-68.2996 1518.29,-78.3619 1525.29,-78.234\"/>\r\n</g>\r\n<!-- 23 -->\r\n<g id=\"node24\" class=\"node\"><title>23</title>\r\n<path fill=\"#eb9d66\" stroke=\"black\" d=\"M1738,-68C1738,-68 1624,-68 1624,-68 1618,-68 1612,-62 1612,-56 1612,-56 1612,-12 1612,-12 1612,-6 1618,-0 1624,-0 1624,-0 1738,-0 1738,-0 1744,-0 1750,-6 1750,-12 1750,-12 1750,-56 1750,-56 1750,-62 1744,-68 1738,-68\"/>\r\n<text text-anchor=\"start\" x=\"1643.5\" y=\"-52.8\" font-family=\"Helvetica,sans-Serif\" font-size=\"14.00\">gini = 0.301</text>\r\n<text text-anchor=\"start\" x=\"1629.5\" y=\"-37.8\" font-family=\"Helvetica,sans-Serif\" font-size=\"14.00\">samples = 1594</text>\r\n<text text-anchor=\"start\" x=\"1620\" y=\"-22.8\" font-family=\"Helvetica,sans-Serif\" font-size=\"14.00\">value = [1300, 294]</text>\r\n<text text-anchor=\"start\" x=\"1652\" y=\"-7.8\" font-family=\"Helvetica,sans-Serif\" font-size=\"14.00\">class = 0</text>\r\n</g>\r\n<!-- 21&#45;&gt;23 -->\r\n<g id=\"edge23\" class=\"edge\"><title>21&#45;&gt;23</title>\r\n<path fill=\"none\" stroke=\"black\" d=\"M1581.83,-103.726C1595.86,-94.0078 1610.79,-83.6597 1624.69,-74.0222\"/>\r\n<polygon fill=\"black\" stroke=\"black\" points=\"1626.98,-76.6981 1633.2,-68.1252 1622.99,-70.9447 1626.98,-76.6981\"/>\r\n</g>\r\n<!-- 25 -->\r\n<g id=\"node26\" class=\"node\"><title>25</title>\r\n<path fill=\"#f4caab\" stroke=\"black\" d=\"M1957,-187C1957,-187 1843,-187 1843,-187 1837,-187 1831,-181 1831,-175 1831,-175 1831,-116 1831,-116 1831,-110 1837,-104 1843,-104 1843,-104 1957,-104 1957,-104 1963,-104 1969,-110 1969,-116 1969,-116 1969,-175 1969,-175 1969,-181 1963,-187 1957,-187\"/>\r\n<text text-anchor=\"start\" x=\"1841.5\" y=\"-171.8\" font-family=\"Helvetica,sans-Serif\" font-size=\"14.00\">euribor3m ≤ 1.402</text>\r\n<text text-anchor=\"start\" x=\"1862.5\" y=\"-156.8\" font-family=\"Helvetica,sans-Serif\" font-size=\"14.00\">gini = 0.464</text>\r\n<text text-anchor=\"start\" x=\"1848.5\" y=\"-141.8\" font-family=\"Helvetica,sans-Serif\" font-size=\"14.00\">samples = 1601</text>\r\n<text text-anchor=\"start\" x=\"1839\" y=\"-126.8\" font-family=\"Helvetica,sans-Serif\" font-size=\"14.00\">value = [1016, 585]</text>\r\n<text text-anchor=\"start\" x=\"1871\" y=\"-111.8\" font-family=\"Helvetica,sans-Serif\" font-size=\"14.00\">class = 0</text>\r\n</g>\r\n<!-- 24&#45;&gt;25 -->\r\n<g id=\"edge25\" class=\"edge\"><title>24&#45;&gt;25</title>\r\n<path fill=\"none\" stroke=\"black\" d=\"M1900,-222.907C1900,-214.649 1900,-205.864 1900,-197.302\"/>\r\n<polygon fill=\"black\" stroke=\"black\" points=\"1903.5,-197.021 1900,-187.021 1896.5,-197.021 1903.5,-197.021\"/>\r\n</g>\r\n<!-- 28 -->\r\n<g id=\"node29\" class=\"node\"><title>28</title>\r\n<path fill=\"#cae5f8\" stroke=\"black\" d=\"M2192,-187C2192,-187 2066,-187 2066,-187 2060,-187 2054,-181 2054,-175 2054,-175 2054,-116 2054,-116 2054,-110 2060,-104 2066,-104 2066,-104 2192,-104 2192,-104 2198,-104 2204,-110 2204,-116 2204,-116 2204,-175 2204,-175 2204,-181 2198,-187 2192,-187\"/>\r\n<text text-anchor=\"start\" x=\"2062\" y=\"-171.8\" font-family=\"Helvetica,sans-Serif\" font-size=\"14.00\">contact_cellular ≤ 0.5</text>\r\n<text text-anchor=\"start\" x=\"2091.5\" y=\"-156.8\" font-family=\"Helvetica,sans-Serif\" font-size=\"14.00\">gini = 0.488</text>\r\n<text text-anchor=\"start\" x=\"2077.5\" y=\"-141.8\" font-family=\"Helvetica,sans-Serif\" font-size=\"14.00\">samples = 1391</text>\r\n<text text-anchor=\"start\" x=\"2072\" y=\"-126.8\" font-family=\"Helvetica,sans-Serif\" font-size=\"14.00\">value = [589, 802]</text>\r\n<text text-anchor=\"start\" x=\"2100\" y=\"-111.8\" font-family=\"Helvetica,sans-Serif\" font-size=\"14.00\">class = 1</text>\r\n</g>\r\n<!-- 24&#45;&gt;28 -->\r\n<g id=\"edge28\" class=\"edge\"><title>24&#45;&gt;28</title>\r\n<path fill=\"none\" stroke=\"black\" d=\"M1973.09,-226.159C1995.95,-214.477 2021.36,-201.493 2044.92,-189.457\"/>\r\n<polygon fill=\"black\" stroke=\"black\" points=\"2046.54,-192.561 2053.85,-184.894 2043.35,-186.327 2046.54,-192.561\"/>\r\n</g>\r\n<!-- 26 -->\r\n<g id=\"node27\" class=\"node\"><title>26</title>\r\n<path fill=\"#c9e4f8\" stroke=\"black\" d=\"M1886,-68C1886,-68 1780,-68 1780,-68 1774,-68 1768,-62 1768,-56 1768,-56 1768,-12 1768,-12 1768,-6 1774,-0 1780,-0 1780,-0 1886,-0 1886,-0 1892,-0 1898,-6 1898,-12 1898,-12 1898,-56 1898,-56 1898,-62 1892,-68 1886,-68\"/>\r\n<text text-anchor=\"start\" x=\"1795.5\" y=\"-52.8\" font-family=\"Helvetica,sans-Serif\" font-size=\"14.00\">gini = 0.488</text>\r\n<text text-anchor=\"start\" x=\"1785.5\" y=\"-37.8\" font-family=\"Helvetica,sans-Serif\" font-size=\"14.00\">samples = 292</text>\r\n<text text-anchor=\"start\" x=\"1776\" y=\"-22.8\" font-family=\"Helvetica,sans-Serif\" font-size=\"14.00\">value = [123, 169]</text>\r\n<text text-anchor=\"start\" x=\"1804\" y=\"-7.8\" font-family=\"Helvetica,sans-Serif\" font-size=\"14.00\">class = 1</text>\r\n</g>\r\n<!-- 25&#45;&gt;26 -->\r\n<g id=\"edge26\" class=\"edge\"><title>25&#45;&gt;26</title>\r\n<path fill=\"none\" stroke=\"black\" d=\"M1875.05,-103.726C1869.69,-94.9703 1864.02,-85.7032 1858.64,-76.9051\"/>\r\n<polygon fill=\"black\" stroke=\"black\" points=\"1861.58,-75.0028 1853.38,-68.2996 1855.61,-78.6563 1861.58,-75.0028\"/>\r\n</g>\r\n<!-- 27 -->\r\n<g id=\"node28\" class=\"node\"><title>27</title>\r\n<path fill=\"#f1bc95\" stroke=\"black\" d=\"M2034,-68C2034,-68 1928,-68 1928,-68 1922,-68 1916,-62 1916,-56 1916,-56 1916,-12 1916,-12 1916,-6 1922,-0 1928,-0 1928,-0 2034,-0 2034,-0 2040,-0 2046,-6 2046,-12 2046,-12 2046,-56 2046,-56 2046,-62 2040,-68 2034,-68\"/>\r\n<text text-anchor=\"start\" x=\"1943.5\" y=\"-52.8\" font-family=\"Helvetica,sans-Serif\" font-size=\"14.00\">gini = 0.434</text>\r\n<text text-anchor=\"start\" x=\"1929.5\" y=\"-37.8\" font-family=\"Helvetica,sans-Serif\" font-size=\"14.00\">samples = 1309</text>\r\n<text text-anchor=\"start\" x=\"1924\" y=\"-22.8\" font-family=\"Helvetica,sans-Serif\" font-size=\"14.00\">value = [893, 416]</text>\r\n<text text-anchor=\"start\" x=\"1952\" y=\"-7.8\" font-family=\"Helvetica,sans-Serif\" font-size=\"14.00\">class = 0</text>\r\n</g>\r\n<!-- 25&#45;&gt;27 -->\r\n<g id=\"edge27\" class=\"edge\"><title>25&#45;&gt;27</title>\r\n<path fill=\"none\" stroke=\"black\" d=\"M1930.16,-103.726C1936.77,-94.7878 1943.78,-85.3168 1950.41,-76.3558\"/>\r\n<polygon fill=\"black\" stroke=\"black\" points=\"1953.23,-78.4206 1956.37,-68.2996 1947.61,-74.2576 1953.23,-78.4206\"/>\r\n</g>\r\n<!-- 29 -->\r\n<g id=\"node30\" class=\"node\"><title>29</title>\r\n<path fill=\"#fdfeff\" stroke=\"black\" d=\"M2182,-68C2182,-68 2076,-68 2076,-68 2070,-68 2064,-62 2064,-56 2064,-56 2064,-12 2064,-12 2064,-6 2070,-0 2076,-0 2076,-0 2182,-0 2182,-0 2188,-0 2194,-6 2194,-12 2194,-12 2194,-56 2194,-56 2194,-62 2188,-68 2182,-68\"/>\r\n<text text-anchor=\"start\" x=\"2100\" y=\"-52.8\" font-family=\"Helvetica,sans-Serif\" font-size=\"14.00\">gini = 0.5</text>\r\n<text text-anchor=\"start\" x=\"2081.5\" y=\"-37.8\" font-family=\"Helvetica,sans-Serif\" font-size=\"14.00\">samples = 497</text>\r\n<text text-anchor=\"start\" x=\"2072\" y=\"-22.8\" font-family=\"Helvetica,sans-Serif\" font-size=\"14.00\">value = [247, 250]</text>\r\n<text text-anchor=\"start\" x=\"2100\" y=\"-7.8\" font-family=\"Helvetica,sans-Serif\" font-size=\"14.00\">class = 1</text>\r\n</g>\r\n<!-- 28&#45;&gt;29 -->\r\n<g id=\"edge29\" class=\"edge\"><title>28&#45;&gt;29</title>\r\n<path fill=\"none\" stroke=\"black\" d=\"M2129,-103.726C2129,-95.5175 2129,-86.8595 2129,-78.56\"/>\r\n<polygon fill=\"black\" stroke=\"black\" points=\"2132.5,-78.2996 2129,-68.2996 2125.5,-78.2996 2132.5,-78.2996\"/>\r\n</g>\r\n<!-- 30 -->\r\n<g id=\"node31\" class=\"node\"><title>30</title>\r\n<path fill=\"#b4daf5\" stroke=\"black\" d=\"M2330,-68C2330,-68 2224,-68 2224,-68 2218,-68 2212,-62 2212,-56 2212,-56 2212,-12 2212,-12 2212,-6 2218,-0 2224,-0 2224,-0 2330,-0 2330,-0 2336,-0 2342,-6 2342,-12 2342,-12 2342,-56 2342,-56 2342,-62 2336,-68 2330,-68\"/>\r\n<text text-anchor=\"start\" x=\"2239.5\" y=\"-52.8\" font-family=\"Helvetica,sans-Serif\" font-size=\"14.00\">gini = 0.472</text>\r\n<text text-anchor=\"start\" x=\"2229.5\" y=\"-37.8\" font-family=\"Helvetica,sans-Serif\" font-size=\"14.00\">samples = 894</text>\r\n<text text-anchor=\"start\" x=\"2220\" y=\"-22.8\" font-family=\"Helvetica,sans-Serif\" font-size=\"14.00\">value = [342, 552]</text>\r\n<text text-anchor=\"start\" x=\"2248\" y=\"-7.8\" font-family=\"Helvetica,sans-Serif\" font-size=\"14.00\">class = 1</text>\r\n</g>\r\n<!-- 28&#45;&gt;30 -->\r\n<g id=\"edge30\" class=\"edge\"><title>28&#45;&gt;30</title>\r\n<path fill=\"none\" stroke=\"black\" d=\"M2184.11,-103.726C2197.05,-94.1494 2210.82,-83.9611 2223.69,-74.4438\"/>\r\n<polygon fill=\"black\" stroke=\"black\" points=\"2226.04,-77.061 2231.99,-68.2996 2221.87,-71.4337 2226.04,-77.061\"/>\r\n</g>\r\n</g>\r\n</svg>\r\n",
      "text/plain": [
       "<graphviz.files.Source at 0x1761fe20a00>"
      ]
     },
     "execution_count": 68,
     "metadata": {},
     "output_type": "execute_result"
    }
   ],
   "source": [
    "graph"
   ]
  }
 ],
 "metadata": {
  "kernelspec": {
   "display_name": "mkt-env",
   "language": "python",
   "name": "python3"
  },
  "language_info": {
   "codemirror_mode": {
    "name": "ipython",
    "version": 3
   },
   "file_extension": ".py",
   "mimetype": "text/x-python",
   "name": "python",
   "nbconvert_exporter": "python",
   "pygments_lexer": "ipython3",
   "version": "3.10.4"
  },
  "vscode": {
   "interpreter": {
    "hash": "b1af8d10db422e7f6c52df4901a6a515663565d46f0b47b72cd4e0b0a636b62b"
   }
  }
 },
 "nbformat": 4,
 "nbformat_minor": 5
}
